{
 "cells": [
  {
   "cell_type": "markdown",
   "metadata": {},
   "source": [
    "# BIA 6304\n",
    "## Assignment 3\n",
    "## Chris Gochis and Eric Long"
   ]
  },
  {
   "cell_type": "markdown",
   "metadata": {},
   "source": [
    "# Read in data:"
   ]
  },
  {
   "cell_type": "code",
   "execution_count": 1,
   "metadata": {},
   "outputs": [],
   "source": [
    "#import modules and setup environment\n",
    "#code taken from week 5 examples\n",
    "\n",
    "import pandas as pd\n",
    "import numpy as np\n",
    "from sklearn.feature_extraction.text import CountVectorizer, TfidfVectorizer\n",
    "import nltk\n",
    "import math\n",
    "\n",
    "#these options will allow for bigger chunks of text and rows to be displayed\n",
    "#top code taken from week 4 examples\n",
    "#bottom code taken from https://stackoverflow.com/questions/16424493/pandas-setting-no-of-max-rows\n",
    "\n",
    "pd.set_option('display.max_colwidth', 15000)\n",
    "pd.set_option('display.max_rows', 30000)"
   ]
  },
  {
   "cell_type": "code",
   "execution_count": 2,
   "metadata": {},
   "outputs": [],
   "source": [
    "#read in data source and save into data frame\n",
    "#data source taken from https://www.kaggle.com/datafiniti/hotel-reviews?select=Datafiniti_Hotel_Reviews_Jun19.csv\n",
    "#code taken from week 4 examples\n",
    "\n",
    "pathname = 'C:/Users/el033195/OneDrive - Cerner Corporation/PERSONAL/Data Science/BIA6304 - Text Mining/Week 4/'\n",
    "hotel_df = pd.read_csv(pathname + \"Datafiniti_Hotel_Reviews_Jun19-hw2_dataset.csv\", index_col = False)\n",
    "\n",
    "#test print lines\n",
    "#print(hotel_df.shape)\n",
    "#hotel_df.head(10)"
   ]
  },
  {
   "cell_type": "code",
   "execution_count": 3,
   "metadata": {},
   "outputs": [],
   "source": [
    "#remove everything except review text and rating from data frame\n",
    "#code taken from week 4 examples as well as https://www.w3resource.com/python-exercises/pandas/python-pandas-data-frame-exercise-5.php\n",
    "\n",
    "hotel_df = hotel_df[['reviews.text','reviews.rating']]\n",
    "\n",
    "#test print lines\n",
    "#print(hotel_df.shape)\n",
    "#hotel_df.head(10)"
   ]
  },
  {
   "cell_type": "markdown",
   "metadata": {},
   "source": [
    "# Preprocessing:"
   ]
  },
  {
   "cell_type": "code",
   "execution_count": 4,
   "metadata": {},
   "outputs": [],
   "source": [
    "#import nltk stopwords package\n",
    "#code taken from week 3 examples\n",
    "\n",
    "from nltk.corpus import stopwords\n",
    "\n",
    "nltk_stopwords = stopwords.words(\"english\")"
   ]
  },
  {
   "cell_type": "code",
   "execution_count": 5,
   "metadata": {},
   "outputs": [
    {
     "name": "stdout",
     "output_type": "stream",
     "text": [
      "(10000, 22112)\n"
     ]
    },
    {
     "data": {
      "text/html": [
       "<div>\n",
       "<style scoped>\n",
       "    .dataframe tbody tr th:only-of-type {\n",
       "        vertical-align: middle;\n",
       "    }\n",
       "\n",
       "    .dataframe tbody tr th {\n",
       "        vertical-align: top;\n",
       "    }\n",
       "\n",
       "    .dataframe thead th {\n",
       "        text-align: right;\n",
       "    }\n",
       "</style>\n",
       "<table border=\"1\" class=\"dataframe\">\n",
       "  <thead>\n",
       "    <tr style=\"text-align: right;\">\n",
       "      <th></th>\n",
       "      <th>count</th>\n",
       "    </tr>\n",
       "  </thead>\n",
       "  <tbody>\n",
       "    <tr>\n",
       "      <th>the</th>\n",
       "      <td>67993</td>\n",
       "    </tr>\n",
       "    <tr>\n",
       "      <th>and</th>\n",
       "      <td>42699</td>\n",
       "    </tr>\n",
       "    <tr>\n",
       "      <th>to</th>\n",
       "      <td>36259</td>\n",
       "    </tr>\n",
       "    <tr>\n",
       "      <th>was</th>\n",
       "      <td>23046</td>\n",
       "    </tr>\n",
       "    <tr>\n",
       "      <th>we</th>\n",
       "      <td>22108</td>\n",
       "    </tr>\n",
       "    <tr>\n",
       "      <th>you</th>\n",
       "      <td>18577</td>\n",
       "    </tr>\n",
       "    <tr>\n",
       "      <th>in</th>\n",
       "      <td>17617</td>\n",
       "    </tr>\n",
       "    <tr>\n",
       "      <th>for</th>\n",
       "      <td>17169</td>\n",
       "    </tr>\n",
       "    <tr>\n",
       "      <th>of</th>\n",
       "      <td>14938</td>\n",
       "    </tr>\n",
       "    <tr>\n",
       "      <th>is</th>\n",
       "      <td>14395</td>\n",
       "    </tr>\n",
       "    <tr>\n",
       "      <th>hotel</th>\n",
       "      <td>12370</td>\n",
       "    </tr>\n",
       "    <tr>\n",
       "      <th>it</th>\n",
       "      <td>12017</td>\n",
       "    </tr>\n",
       "    <tr>\n",
       "      <th>our</th>\n",
       "      <td>11064</td>\n",
       "    </tr>\n",
       "    <tr>\n",
       "      <th>with</th>\n",
       "      <td>10541</td>\n",
       "    </tr>\n",
       "    <tr>\n",
       "      <th>room</th>\n",
       "      <td>10282</td>\n",
       "    </tr>\n",
       "  </tbody>\n",
       "</table>\n",
       "</div>"
      ],
      "text/plain": [
       "       count\n",
       "the    67993\n",
       "and    42699\n",
       "to     36259\n",
       "was    23046\n",
       "we     22108\n",
       "you    18577\n",
       "in     17617\n",
       "for    17169\n",
       "of     14938\n",
       "is     14395\n",
       "hotel  12370\n",
       "it     12017\n",
       "our    11064\n",
       "with   10541\n",
       "room   10282"
      ]
     },
     "execution_count": 5,
     "metadata": {},
     "output_type": "execute_result"
    }
   ],
   "source": [
    "#get initial counts for entire corpus\n",
    "#code taken from week 5 examples\n",
    "\n",
    "#define and apply the vectorizer\n",
    "\n",
    "cv_raw = CountVectorizer(binary=False)\n",
    "cv_transcript_raw = cv_raw.fit_transform(hotel_df['reviews.text'])\n",
    "print(cv_transcript_raw.shape)\n",
    "\n",
    "#get list of features + counts\n",
    "\n",
    "names = cv_raw.get_feature_names()\n",
    "count = np.sum(cv_transcript_raw.toarray(), axis = 0) \n",
    "count2 = count.tolist()\n",
    "\n",
    "#create new data frame with features and counts\n",
    "\n",
    "count_df = pd.DataFrame(count2, index = names, columns = ['count'])\n",
    "sorted_count = count_df.sort_values(['count'], ascending = False)\n",
    "\n",
    "#output top of new data frame\n",
    "\n",
    "sorted_count.head(15)"
   ]
  },
  {
   "cell_type": "code",
   "execution_count": 6,
   "metadata": {},
   "outputs": [
    {
     "name": "stdout",
     "output_type": "stream",
     "text": [
      "(10000, 21971)\n"
     ]
    },
    {
     "data": {
      "text/html": [
       "<div>\n",
       "<style scoped>\n",
       "    .dataframe tbody tr th:only-of-type {\n",
       "        vertical-align: middle;\n",
       "    }\n",
       "\n",
       "    .dataframe tbody tr th {\n",
       "        vertical-align: top;\n",
       "    }\n",
       "\n",
       "    .dataframe thead th {\n",
       "        text-align: right;\n",
       "    }\n",
       "</style>\n",
       "<table border=\"1\" class=\"dataframe\">\n",
       "  <thead>\n",
       "    <tr style=\"text-align: right;\">\n",
       "      <th></th>\n",
       "      <th>count</th>\n",
       "    </tr>\n",
       "  </thead>\n",
       "  <tbody>\n",
       "    <tr>\n",
       "      <th>hotel</th>\n",
       "      <td>12370</td>\n",
       "    </tr>\n",
       "    <tr>\n",
       "      <th>room</th>\n",
       "      <td>10282</td>\n",
       "    </tr>\n",
       "    <tr>\n",
       "      <th>stay</th>\n",
       "      <td>7890</td>\n",
       "    </tr>\n",
       "    <tr>\n",
       "      <th>staff</th>\n",
       "      <td>6250</td>\n",
       "    </tr>\n",
       "    <tr>\n",
       "      <th>great</th>\n",
       "      <td>5909</td>\n",
       "    </tr>\n",
       "    <tr>\n",
       "      <th>us</th>\n",
       "      <td>5638</td>\n",
       "    </tr>\n",
       "    <tr>\n",
       "      <th>clean</th>\n",
       "      <td>4222</td>\n",
       "    </tr>\n",
       "    <tr>\n",
       "      <th>breakfast</th>\n",
       "      <td>4174</td>\n",
       "    </tr>\n",
       "    <tr>\n",
       "      <th>thank</th>\n",
       "      <td>3961</td>\n",
       "    </tr>\n",
       "    <tr>\n",
       "      <th>nice</th>\n",
       "      <td>3919</td>\n",
       "    </tr>\n",
       "    <tr>\n",
       "      <th>time</th>\n",
       "      <td>3837</td>\n",
       "    </tr>\n",
       "    <tr>\n",
       "      <th>rooms</th>\n",
       "      <td>3737</td>\n",
       "    </tr>\n",
       "    <tr>\n",
       "      <th>location</th>\n",
       "      <td>3724</td>\n",
       "    </tr>\n",
       "    <tr>\n",
       "      <th>would</th>\n",
       "      <td>3679</td>\n",
       "    </tr>\n",
       "    <tr>\n",
       "      <th>good</th>\n",
       "      <td>3637</td>\n",
       "    </tr>\n",
       "  </tbody>\n",
       "</table>\n",
       "</div>"
      ],
      "text/plain": [
       "           count\n",
       "hotel      12370\n",
       "room       10282\n",
       "stay        7890\n",
       "staff       6250\n",
       "great       5909\n",
       "us          5638\n",
       "clean       4222\n",
       "breakfast   4174\n",
       "thank       3961\n",
       "nice        3919\n",
       "time        3837\n",
       "rooms       3737\n",
       "location    3724\n",
       "would       3679\n",
       "good        3637"
      ]
     },
     "execution_count": 6,
     "metadata": {},
     "output_type": "execute_result"
    }
   ],
   "source": [
    "#the ordered feature list shows mostly stopwords at the top\n",
    "#remove default stopwords\n",
    "#code taken from week 5 examples\n",
    "\n",
    "#define and apply the vectorizer\n",
    "\n",
    "cv = CountVectorizer(binary=False, stop_words = nltk_stopwords)\n",
    "cv_transcript = cv.fit_transform(hotel_df['reviews.text'])\n",
    "print(cv_transcript.shape)\n",
    "\n",
    "#get list of features + counts\n",
    "\n",
    "names = cv.get_feature_names()\n",
    "count = np.sum(cv_transcript.toarray(), axis = 0) \n",
    "count2 = count.tolist()\n",
    "\n",
    "#create new data frame with features and counts\n",
    "\n",
    "count_df = pd.DataFrame(count2, index = names, columns = ['count'])\n",
    "sorted_count = count_df.sort_values(['count'], ascending = False)\n",
    "\n",
    "#output list of feature counts w/o stop words\n",
    "\n",
    "sorted_count.head(15)"
   ]
  },
  {
   "cell_type": "code",
   "execution_count": 7,
   "metadata": {},
   "outputs": [],
   "source": [
    "#output feature names\n",
    "#code taken from week 5 examples\n",
    "\n",
    "#cv.get_feature_names()"
   ]
  },
  {
   "cell_type": "code",
   "execution_count": 8,
   "metadata": {},
   "outputs": [
    {
     "name": "stdout",
     "output_type": "stream",
     "text": [
      "(10000, 21894)\n"
     ]
    },
    {
     "data": {
      "text/html": [
       "<div>\n",
       "<style scoped>\n",
       "    .dataframe tbody tr th:only-of-type {\n",
       "        vertical-align: middle;\n",
       "    }\n",
       "\n",
       "    .dataframe tbody tr th {\n",
       "        vertical-align: top;\n",
       "    }\n",
       "\n",
       "    .dataframe thead th {\n",
       "        text-align: right;\n",
       "    }\n",
       "</style>\n",
       "<table border=\"1\" class=\"dataframe\">\n",
       "  <thead>\n",
       "    <tr style=\"text-align: right;\">\n",
       "      <th></th>\n",
       "      <th>count</th>\n",
       "    </tr>\n",
       "  </thead>\n",
       "  <tbody>\n",
       "    <tr>\n",
       "      <th>hotel</th>\n",
       "      <td>12370</td>\n",
       "    </tr>\n",
       "    <tr>\n",
       "      <th>room</th>\n",
       "      <td>10282</td>\n",
       "    </tr>\n",
       "    <tr>\n",
       "      <th>stay</th>\n",
       "      <td>7890</td>\n",
       "    </tr>\n",
       "    <tr>\n",
       "      <th>staff</th>\n",
       "      <td>6250</td>\n",
       "    </tr>\n",
       "    <tr>\n",
       "      <th>great</th>\n",
       "      <td>5909</td>\n",
       "    </tr>\n",
       "    <tr>\n",
       "      <th>clean</th>\n",
       "      <td>4222</td>\n",
       "    </tr>\n",
       "    <tr>\n",
       "      <th>breakfast</th>\n",
       "      <td>4174</td>\n",
       "    </tr>\n",
       "    <tr>\n",
       "      <th>thank</th>\n",
       "      <td>3961</td>\n",
       "    </tr>\n",
       "    <tr>\n",
       "      <th>nice</th>\n",
       "      <td>3919</td>\n",
       "    </tr>\n",
       "    <tr>\n",
       "      <th>time</th>\n",
       "      <td>3837</td>\n",
       "    </tr>\n",
       "    <tr>\n",
       "      <th>rooms</th>\n",
       "      <td>3737</td>\n",
       "    </tr>\n",
       "    <tr>\n",
       "      <th>location</th>\n",
       "      <td>3724</td>\n",
       "    </tr>\n",
       "    <tr>\n",
       "      <th>good</th>\n",
       "      <td>3637</td>\n",
       "    </tr>\n",
       "    <tr>\n",
       "      <th>stayed</th>\n",
       "      <td>2935</td>\n",
       "    </tr>\n",
       "    <tr>\n",
       "      <th>friendly</th>\n",
       "      <td>2817</td>\n",
       "    </tr>\n",
       "  </tbody>\n",
       "</table>\n",
       "</div>"
      ],
      "text/plain": [
       "           count\n",
       "hotel      12370\n",
       "room       10282\n",
       "stay        7890\n",
       "staff       6250\n",
       "great       5909\n",
       "clean       4222\n",
       "breakfast   4174\n",
       "thank       3961\n",
       "nice        3919\n",
       "time        3837\n",
       "rooms       3737\n",
       "location    3724\n",
       "good        3637\n",
       "stayed      2935\n",
       "friendly    2817"
      ]
     },
     "execution_count": 8,
     "metadata": {},
     "output_type": "execute_result"
    }
   ],
   "source": [
    "#remove additional stop words (including some \"garbage\" words from the feature list)\n",
    "#code taken from week 4 and 5 examples\n",
    "\n",
    "my_stopwords = nltk_stopwords + [\"us\",\"would\",\"get\",\"one\",\"also\",\"see\",\"007traveler64\",\"0thank\",\"100evi\",\"104lawandar\",\"1175dortegahotelnikkosf\",\"1203shirley\",\"131gabrielu\",\"151mistyai\",\"170rigobertoh\",\"186deannag\",\"1jozi\",\"219norbertob\",\"232indraneels\",\"236susiec\",\"244mmoreno\",\"245clarencek\",\"259cheryle\",\"267alenkar\",\"283pamelag\",\"3057mlynchsohogrand\",\"318glennj\",\"327sylvia\",\"346laurieb\",\"35johannaj\",\"373jkim\",\"3777seth\",\"391tiffanya\",\"396joana\",\"4000jdragnanolahotelgroup\",\"4023lmaurerjdvhotels\",\"4031charles\",\"4057andre\",\"4057anthony\",\"4057william\",\"406eltong\",\"441rhondam\",\"444diane\",\"501sandy\",\"53wohoo\",\"544be\",\"554lklu\",\"554sharone\",\"5557sandlhamptonhilton\",\"557debral\",\"5700sincerely\",\"575bjacobs\",\"57crystalcthank\",\"613rachellel\",\"630alannaw\",\"6tribes\",\"702kathryno\",\"721jeffreygu\",\"746sunilp\",\"746tabithal\",\"763christinap\",\"773ericac\",\"805ronaldw\",\"80wingslogo84\",\"814isaiahc\",\"837eugene\",\"850bond007\",\"874reginab\",\"882triciam\",\"883anelr\",\"886raquelj\",\"910keithg\",\"934sheilae\",\"95pattin\",\"970geraldi\",\"976emma\",\"97claudinea\"]\n",
    "\n",
    "#define and apply the vectorizer\n",
    "\n",
    "cv = CountVectorizer(binary=False, stop_words = my_stopwords)\n",
    "cv_transcript = cv.fit_transform(hotel_df['reviews.text'])\n",
    "print(cv_transcript.shape)\n",
    "\n",
    "#get list of features + counts\n",
    "\n",
    "names = cv.get_feature_names()\n",
    "count = np.sum(cv_transcript.toarray(), axis = 0) \n",
    "count2 = count.tolist()\n",
    "\n",
    "#create new data frame with features and counts\n",
    "\n",
    "count_df = pd.DataFrame(count2, index = names, columns = ['count'])\n",
    "sorted_count = count_df.sort_values(['count'], ascending = False)\n",
    "\n",
    "#output list of feature counts w/o stop words\n",
    "\n",
    "sorted_count.head(15)"
   ]
  },
  {
   "cell_type": "code",
   "execution_count": 9,
   "metadata": {},
   "outputs": [],
   "source": [
    "#create new column for data frame\n",
    "#code taken from https://pandas.pydata.org/pandas-docs/stable/reference/api/pandas.DataFrame.insert.html\n",
    "\n",
    "hotel_df.insert(1,'reviews.text.processed',hotel_df.loc[:,'reviews.text'])\n",
    "\n",
    "#test print lines\n",
    "#print(hotel_df.shape)\n",
    "#hotel_df.head(10)"
   ]
  },
  {
   "cell_type": "code",
   "execution_count": 10,
   "metadata": {
    "scrolled": false
   },
   "outputs": [],
   "source": [
    "#make all text lowercase and remove stop words from new column\n",
    "#add processed data to original data frame\n",
    "\n",
    "#lowercase\n",
    "#code taken from https://datatofish.com/lowercase-pandas-dataframe/\n",
    "\n",
    "hotel_df['reviews.text.processed'] = hotel_df.loc[:,'reviews.text.processed'].str.lower()\n",
    "\n",
    "#stopwords\n",
    "#code taken from week 3 examples and https://stackoverflow.com/questions/29523254/python-remove-stop-words-from-pandas-dataframe\n",
    "\n",
    "hotel_df['reviews.text.processed'] = hotel_df['reviews.text.processed'].apply(lambda x: [y for y in x.split() if y not in my_stopwords])\n",
    "hotel_df['reviews.text.processed'] = [\" \".join(y) for y in hotel_df['reviews.text.processed']]\n",
    "\n",
    "#test print lines\n",
    "#print(hotel_df.shape)\n",
    "#hotel_df.head(10)"
   ]
  },
  {
   "cell_type": "markdown",
   "metadata": {},
   "source": [
    "# Prediction:"
   ]
  },
  {
   "cell_type": "code",
   "execution_count": 11,
   "metadata": {},
   "outputs": [
    {
     "data": {
      "text/plain": [
       "<AxesSubplot:>"
      ]
     },
     "execution_count": 11,
     "metadata": {},
     "output_type": "execute_result"
    },
    {
     "data": {
      "image/png": "[encoded data removed]",
      "text/plain": [
       "<Figure size 432x288 with 1 Axes>"
      ]
     },
     "metadata": {
      "needs_background": "light"
     },
     "output_type": "display_data"
    }
   ],
   "source": [
    "#additional environment set up\n",
    "#code taken from week 5 examples\n",
    "\n",
    "%matplotlib inline\n",
    "import matplotlib as mpl\n",
    "import matplotlib.pyplot as plt\n",
    "\n",
    "#plot distribution of data\n",
    "#code taken from week 5 examples\n",
    "\n",
    "hotel_df['reviews.rating'].value_counts().plot(kind='bar')"
   ]
  },
  {
   "cell_type": "code",
   "execution_count": 12,
   "metadata": {},
   "outputs": [],
   "source": [
    "#set X and Y variables for train/test sets\n",
    "#code taken from week 5 examples\n",
    "\n",
    "#additional environment setup\n",
    "\n",
    "from sklearn.model_selection import train_test_split\n",
    "\n",
    "#declare variables\n",
    "#X = features\n",
    "#Y = labels\n",
    "\n",
    "X = cv_transcript.toarray()\n",
    "#print(type(X), X[0:10])\n",
    "\n",
    "Y = hotel_df['reviews.rating'].values\n",
    "#print(type(Y), Y[0:10])"
   ]
  },
  {
   "cell_type": "code",
   "execution_count": 13,
   "metadata": {},
   "outputs": [
    {
     "name": "stdout",
     "output_type": "stream",
     "text": [
      "(7000, 21894)\n",
      "(3000, 21894)\n",
      "(7000,)\n",
      "(3000,)\n"
     ]
    }
   ],
   "source": [
    "#split data into training and test sets - 70/30 split\n",
    "#code taken from week 5 examples\n",
    "\n",
    "X_train, X_test, Y_train, Y_test = train_test_split(X, Y, test_size=0.3, random_state=42)\n",
    "\n",
    "#output set sizes, confirm correct size\n",
    "\n",
    "print(X_train.shape) #number of columns should match X_test (2 in this case)\n",
    "print(X_test.shape)\n",
    "print(Y_train.shape) #number of columns should match Y_test and should only be 1\n",
    "print(Y_test.shape)"
   ]
  },
  {
   "cell_type": "code",
   "execution_count": 14,
   "metadata": {},
   "outputs": [
    {
     "name": "stdout",
     "output_type": "stream",
     "text": [
      "DecisionTreeClassifier(random_state=42)\n",
      "0.4856666666666667\n",
      "accuracy: 0.4856666666666667\n",
      "              precision    recall  f1-score   support\n",
      "\n",
      "           1       0.37      0.27      0.31       169\n",
      "           2       0.26      0.19      0.22       169\n",
      "           3       0.24      0.23      0.24       343\n",
      "           4       0.38      0.37      0.37       870\n",
      "           5       0.62      0.67      0.65      1449\n",
      "\n",
      "    accuracy                           0.49      3000\n",
      "   macro avg       0.37      0.35      0.36      3000\n",
      "weighted avg       0.47      0.49      0.48      3000\n",
      "\n"
     ]
    }
   ],
   "source": [
    "#use decision tree for prediction\n",
    "#code taken from week 5 examples\n",
    "\n",
    "#additional environment setup\n",
    "\n",
    "from sklearn import metrics\n",
    "from sklearn.tree import DecisionTreeClassifier\n",
    "\n",
    "#fit a Decision Tree model to the data\n",
    "\n",
    "model = DecisionTreeClassifier(random_state = 42)\n",
    "print(model)\n",
    "model.fit(X_train, Y_train)\n",
    "\n",
    "#make predictions\n",
    "\n",
    "dt0_expected = Y_test\n",
    "dt0_predicted = model.predict(X_test)\n",
    "\n",
    "print(model.score(X_test, Y_test))\n",
    "\n",
    "#summarize the fit of the model\n",
    "\n",
    "print(\"accuracy: \" + str(metrics.accuracy_score(dt0_expected, dt0_predicted))) #metrics.accuracy_score is part of DecisionTreeClassifier\n",
    "print(metrics.classification_report(dt0_expected, dt0_predicted))"
   ]
  },
  {
   "cell_type": "code",
   "execution_count": 15,
   "metadata": {},
   "outputs": [
    {
     "data": {
      "text/plain": [
       "124"
      ]
     },
     "execution_count": 15,
     "metadata": {},
     "output_type": "execute_result"
    }
   ],
   "source": [
    "#check depth of initial model\n",
    "#code taken from https://scikit-learn.org/stable/modules/generated/sklearn.tree.DecisionTreeClassifier.html\n",
    "\n",
    "model.get_depth()"
   ]
  },
  {
   "cell_type": "code",
   "execution_count": 16,
   "metadata": {},
   "outputs": [
    {
     "name": "stdout",
     "output_type": "stream",
     "text": [
      "DecisionTreeClassifier(max_depth=100, random_state=42)\n",
      "0.48933333333333334\n",
      "accuracy: 0.48933333333333334\n",
      "              precision    recall  f1-score   support\n",
      "\n",
      "           1       0.36      0.28      0.32       169\n",
      "           2       0.26      0.19      0.22       169\n",
      "           3       0.25      0.23      0.24       343\n",
      "           4       0.38      0.38      0.38       870\n",
      "           5       0.63      0.68      0.65      1449\n",
      "\n",
      "    accuracy                           0.49      3000\n",
      "   macro avg       0.38      0.35      0.36      3000\n",
      "weighted avg       0.48      0.49      0.48      3000\n",
      "\n"
     ]
    }
   ],
   "source": [
    "#tweak 1 (change max_depth = 100)\n",
    "#reference for tweaks: https://towardsdatascience.com/how-to-tune-a-decision-tree-f03721801680\n",
    "\n",
    "#fit a Decision Tree model to the data\n",
    "\n",
    "model = DecisionTreeClassifier(random_state = 42, max_depth = 100)\n",
    "print(model)\n",
    "model.fit(X_train, Y_train)\n",
    "\n",
    "#make predictions\n",
    "\n",
    "dt1_expected = Y_test\n",
    "dt1_predicted = model.predict(X_test)\n",
    "\n",
    "print(model.score(X_test, Y_test))\n",
    "\n",
    "#summarize the fit of the model\n",
    "\n",
    "print(\"accuracy: \" + str(metrics.accuracy_score(dt1_expected, dt1_predicted))) #metrics.accuracy_score is part of DecisionTreeClassifier\n",
    "print(metrics.classification_report(dt1_expected, dt1_predicted))"
   ]
  },
  {
   "cell_type": "code",
   "execution_count": 17,
   "metadata": {},
   "outputs": [
    {
     "name": "stdout",
     "output_type": "stream",
     "text": [
      "DecisionTreeClassifier(max_depth=100, min_samples_split=5, random_state=42)\n",
      "0.492\n",
      "accuracy: 0.492\n",
      "              precision    recall  f1-score   support\n",
      "\n",
      "           1       0.32      0.27      0.29       169\n",
      "           2       0.25      0.17      0.20       169\n",
      "           3       0.25      0.25      0.25       343\n",
      "           4       0.39      0.37      0.38       870\n",
      "           5       0.63      0.69      0.66      1449\n",
      "\n",
      "    accuracy                           0.49      3000\n",
      "   macro avg       0.37      0.35      0.36      3000\n",
      "weighted avg       0.48      0.49      0.48      3000\n",
      "\n"
     ]
    }
   ],
   "source": [
    "#tweak 2 (add min_samples_split = 5)\n",
    "\n",
    "#fit a Decision Tree model to the data\n",
    "\n",
    "model = DecisionTreeClassifier(random_state = 42, max_depth = 100, min_samples_split = 5)\n",
    "print(model)\n",
    "model.fit(X_train, Y_train)\n",
    "\n",
    "#make predictions\n",
    "\n",
    "dt2_expected = Y_test\n",
    "dt2_predicted = model.predict(X_test)\n",
    "\n",
    "print(model.score(X_test, Y_test))\n",
    "\n",
    "#summarize the fit of the model\n",
    "\n",
    "print(\"accuracy: \" + str(metrics.accuracy_score(dt2_expected, dt2_predicted))) #metrics.accuracy_score is part of DecisionTreeClassifier\n",
    "print(metrics.classification_report(dt2_expected, dt2_predicted))"
   ]
  },
  {
   "cell_type": "code",
   "execution_count": 18,
   "metadata": {},
   "outputs": [
    {
     "name": "stdout",
     "output_type": "stream",
     "text": [
      "DecisionTreeClassifier(max_depth=115, random_state=42)\n",
      "0.492\n",
      "accuracy: 0.492\n",
      "              precision    recall  f1-score   support\n",
      "\n",
      "           1       0.38      0.27      0.31       169\n",
      "           2       0.31      0.21      0.25       169\n",
      "           3       0.26      0.26      0.26       343\n",
      "           4       0.39      0.39      0.39       870\n",
      "           5       0.62      0.67      0.65      1449\n",
      "\n",
      "    accuracy                           0.49      3000\n",
      "   macro avg       0.39      0.36      0.37      3000\n",
      "weighted avg       0.48      0.49      0.49      3000\n",
      "\n"
     ]
    }
   ],
   "source": [
    "#tweak 3 (increase max_depth = 115)\n",
    "\n",
    "#fit a Decision Tree model to the data\n",
    "\n",
    "model = DecisionTreeClassifier(random_state = 42, max_depth = 115)\n",
    "print(model)\n",
    "model.fit(X_train, Y_train)\n",
    "\n",
    "#make predictions\n",
    "\n",
    "dt3_expected = Y_test\n",
    "dt3_predicted = model.predict(X_test)\n",
    "\n",
    "print(model.score(X_test, Y_test))\n",
    "\n",
    "#summarize the fit of the model\n",
    "\n",
    "print(\"accuracy: \" + str(metrics.accuracy_score(dt3_expected, dt3_predicted))) #metrics.accuracy_score is part of DecisionTreeClassifier\n",
    "print(metrics.classification_report(dt3_expected, dt3_predicted))"
   ]
  },
  {
   "cell_type": "code",
   "execution_count": 19,
   "metadata": {},
   "outputs": [
    {
     "name": "stdout",
     "output_type": "stream",
     "text": [
      "DecisionTreeClassifier(max_depth=115, min_samples_split=5, random_state=42)\n",
      "0.49366666666666664\n",
      "accuracy: 0.49366666666666664\n",
      "              precision    recall  f1-score   support\n",
      "\n",
      "           1       0.33      0.29      0.31       169\n",
      "           2       0.27      0.18      0.21       169\n",
      "           3       0.25      0.23      0.24       343\n",
      "           4       0.39      0.38      0.38       870\n",
      "           5       0.63      0.69      0.66      1449\n",
      "\n",
      "    accuracy                           0.49      3000\n",
      "   macro avg       0.37      0.35      0.36      3000\n",
      "weighted avg       0.48      0.49      0.49      3000\n",
      "\n"
     ]
    }
   ],
   "source": [
    "#tweak 4 (add min_samples_split = 5)\n",
    "\n",
    "#fit a Decision Tree model to the data\n",
    "\n",
    "model = DecisionTreeClassifier(random_state = 42, max_depth = 115, min_samples_split = 5)\n",
    "print(model)\n",
    "model.fit(X_train, Y_train)\n",
    "\n",
    "#make predictions\n",
    "\n",
    "dt4_expected = Y_test\n",
    "dt4_predicted = model.predict(X_test)\n",
    "\n",
    "print(model.score(X_test, Y_test))\n",
    "\n",
    "#summarize the fit of the model\n",
    "\n",
    "print(\"accuracy: \" + str(metrics.accuracy_score(dt4_expected, dt4_predicted))) #metrics.accuracy_score is part of DecisionTreeClassifier\n",
    "print(metrics.classification_report(dt4_expected, dt4_predicted))"
   ]
  },
  {
   "cell_type": "code",
   "execution_count": 20,
   "metadata": {},
   "outputs": [
    {
     "name": "stdout",
     "output_type": "stream",
     "text": [
      "MultinomialNB()\n",
      "0.6286666666666667\n",
      "accuracy: 0.6286666666666667\n",
      "              precision    recall  f1-score   support\n",
      "\n",
      "           1       0.70      0.40      0.51       169\n",
      "           2       0.36      0.05      0.08       169\n",
      "           3       0.35      0.35      0.35       343\n",
      "           4       0.52      0.53      0.52       870\n",
      "           5       0.74      0.85      0.79      1449\n",
      "\n",
      "    accuracy                           0.63      3000\n",
      "   macro avg       0.54      0.44      0.45      3000\n",
      "weighted avg       0.61      0.63      0.61      3000\n",
      "\n"
     ]
    }
   ],
   "source": [
    "#use naive bayes for prediction\n",
    "#code taken from week 5 examples\n",
    "\n",
    "#additional environment setup\n",
    "\n",
    "from sklearn.naive_bayes import MultinomialNB\n",
    "\n",
    "#fit a Naive Bayes model to the data\n",
    "\n",
    "model = MultinomialNB()\n",
    "print(model)\n",
    "model.fit(X_train, Y_train)\n",
    "\n",
    "#make predictions\n",
    "\n",
    "nb0_expected = Y_test\n",
    "nb0_predicted = model.predict(X_test)\n",
    "\n",
    "print(model.score(X_test, Y_test))\n",
    "\n",
    "#summarize the fit of the model\n",
    "\n",
    "print(\"accuracy: \" + str(metrics.accuracy_score(nb0_expected, nb0_predicted)))\n",
    "print(metrics.classification_report(nb0_expected, nb0_predicted))"
   ]
  },
  {
   "cell_type": "code",
   "execution_count": 21,
   "metadata": {},
   "outputs": [
    {
     "name": "stdout",
     "output_type": "stream",
     "text": [
      "LogisticRegression(max_iter=500, random_state=42)\n",
      "0.6073333333333333\n",
      "accuracy: 0.6073333333333333\n",
      "              precision    recall  f1-score   support\n",
      "\n",
      "           1       0.58      0.47      0.52       169\n",
      "           2       0.33      0.20      0.25       169\n",
      "           3       0.41      0.36      0.39       343\n",
      "           4       0.50      0.50      0.50       870\n",
      "           5       0.72      0.80      0.76      1449\n",
      "\n",
      "    accuracy                           0.61      3000\n",
      "   macro avg       0.51      0.46      0.48      3000\n",
      "weighted avg       0.59      0.61      0.60      3000\n",
      "\n"
     ]
    }
   ],
   "source": [
    "#use logistic regression for prediction\n",
    "#code taken from week 5 examples\n",
    "\n",
    "#additional environment setup\n",
    "\n",
    "from sklearn.linear_model import LogisticRegression\n",
    "\n",
    "#fit a logistic regression model to the data\n",
    "#NOTE: default max_iter=100 failed\n",
    "\n",
    "model = LogisticRegression(random_state = 42, solver = 'lbfgs', multi_class = 'auto', max_iter = 500)\n",
    "print(model)\n",
    "model.fit(X_train, Y_train)\n",
    "\n",
    "#make predictions\n",
    "\n",
    "lr0_expected = Y_test\n",
    "lr0_predicted = model.predict(X_test)\n",
    "\n",
    "print(model.score(X_test, Y_test))\n",
    "\n",
    "#summarize the fit of the model\n",
    "\n",
    "print(\"accuracy: \" + str(metrics.accuracy_score(lr0_expected, lr0_predicted)))\n",
    "print(metrics.classification_report(lr0_expected, lr0_predicted))"
   ]
  },
  {
   "cell_type": "code",
   "execution_count": 22,
   "metadata": {},
   "outputs": [
    {
     "name": "stdout",
     "output_type": "stream",
     "text": [
      "LogisticRegression(class_weight='balanced', max_iter=500, random_state=42)\n",
      "0.5906666666666667\n",
      "accuracy: 0.5906666666666667\n",
      "              precision    recall  f1-score   support\n",
      "\n",
      "           1       0.52      0.53      0.53       169\n",
      "           2       0.33      0.27      0.30       169\n",
      "           3       0.37      0.40      0.38       343\n",
      "           4       0.49      0.50      0.50       870\n",
      "           5       0.75      0.73      0.74      1449\n",
      "\n",
      "    accuracy                           0.59      3000\n",
      "   macro avg       0.49      0.49      0.49      3000\n",
      "weighted avg       0.59      0.59      0.59      3000\n",
      "\n"
     ]
    }
   ],
   "source": [
    "#tweak 1 (add class_weight = 'balanced')\n",
    "\n",
    "#fit a logistic regression model to the data\n",
    "\n",
    "model = LogisticRegression(random_state = 42, solver = 'lbfgs', multi_class = 'auto', max_iter = 500, class_weight = 'balanced')\n",
    "print(model)\n",
    "model.fit(X_train, Y_train)\n",
    "\n",
    "#make predictions\n",
    "\n",
    "lr1_expected = Y_test\n",
    "lr1_predicted = model.predict(X_test)\n",
    "\n",
    "print(model.score(X_test, Y_test))\n",
    "\n",
    "#summarize the fit of the model\n",
    "\n",
    "print(\"accuracy: \" + str(metrics.accuracy_score(lr1_expected, lr1_predicted)))\n",
    "print(metrics.classification_report(lr1_expected, lr1_predicted))"
   ]
  },
  {
   "cell_type": "code",
   "execution_count": 23,
   "metadata": {},
   "outputs": [
    {
     "name": "stdout",
     "output_type": "stream",
     "text": [
      "LogisticRegression(max_iter=1000, random_state=42)\n",
      "0.6073333333333333\n",
      "accuracy: 0.6073333333333333\n",
      "              precision    recall  f1-score   support\n",
      "\n",
      "           1       0.58      0.47      0.52       169\n",
      "           2       0.33      0.20      0.25       169\n",
      "           3       0.41      0.36      0.39       343\n",
      "           4       0.50      0.50      0.50       870\n",
      "           5       0.72      0.80      0.76      1449\n",
      "\n",
      "    accuracy                           0.61      3000\n",
      "   macro avg       0.51      0.46      0.48      3000\n",
      "weighted avg       0.59      0.61      0.60      3000\n",
      "\n"
     ]
    }
   ],
   "source": [
    "#tweak 2 (remove class_weight and increase max_iter = 1000)\n",
    "#NOTE: also tried max_iter = 400 in this iteration, no difference in accuracy for either\n",
    "\n",
    "#fit a logistic regression model to the data\n",
    "\n",
    "model = LogisticRegression(random_state = 42, solver = 'lbfgs', multi_class = 'auto', max_iter = 1000)\n",
    "print(model)\n",
    "model.fit(X_train, Y_train)\n",
    "\n",
    "#make predictions\n",
    "\n",
    "lr2_expected = Y_test\n",
    "lr2_predicted = model.predict(X_test)\n",
    "\n",
    "print(model.score(X_test, Y_test))\n",
    "\n",
    "#summarize the fit of the model\n",
    "\n",
    "print(\"accuracy: \" + str(metrics.accuracy_score(lr2_expected, lr2_predicted)))\n",
    "print(metrics.classification_report(lr2_expected, lr2_predicted))"
   ]
  },
  {
   "cell_type": "markdown",
   "metadata": {},
   "source": [
    "# Next iteration: add ngrams and min/max df"
   ]
  },
  {
   "cell_type": "code",
   "execution_count": 24,
   "metadata": {},
   "outputs": [
    {
     "name": "stdout",
     "output_type": "stream",
     "text": [
      "(10000, 1125)\n"
     ]
    },
    {
     "data": {
      "text/html": [
       "<div>\n",
       "<style scoped>\n",
       "    .dataframe tbody tr th:only-of-type {\n",
       "        vertical-align: middle;\n",
       "    }\n",
       "\n",
       "    .dataframe tbody tr th {\n",
       "        vertical-align: top;\n",
       "    }\n",
       "\n",
       "    .dataframe thead th {\n",
       "        text-align: right;\n",
       "    }\n",
       "</style>\n",
       "<table border=\"1\" class=\"dataframe\">\n",
       "  <thead>\n",
       "    <tr style=\"text-align: right;\">\n",
       "      <th></th>\n",
       "      <th>count</th>\n",
       "    </tr>\n",
       "  </thead>\n",
       "  <tbody>\n",
       "    <tr>\n",
       "      <th>hotel</th>\n",
       "      <td>12370</td>\n",
       "    </tr>\n",
       "    <tr>\n",
       "      <th>room</th>\n",
       "      <td>10282</td>\n",
       "    </tr>\n",
       "    <tr>\n",
       "      <th>stay</th>\n",
       "      <td>7890</td>\n",
       "    </tr>\n",
       "    <tr>\n",
       "      <th>staff</th>\n",
       "      <td>6250</td>\n",
       "    </tr>\n",
       "    <tr>\n",
       "      <th>great</th>\n",
       "      <td>5909</td>\n",
       "    </tr>\n",
       "    <tr>\n",
       "      <th>clean</th>\n",
       "      <td>4222</td>\n",
       "    </tr>\n",
       "    <tr>\n",
       "      <th>breakfast</th>\n",
       "      <td>4174</td>\n",
       "    </tr>\n",
       "    <tr>\n",
       "      <th>thank</th>\n",
       "      <td>3961</td>\n",
       "    </tr>\n",
       "    <tr>\n",
       "      <th>nice</th>\n",
       "      <td>3919</td>\n",
       "    </tr>\n",
       "    <tr>\n",
       "      <th>time</th>\n",
       "      <td>3837</td>\n",
       "    </tr>\n",
       "    <tr>\n",
       "      <th>rooms</th>\n",
       "      <td>3737</td>\n",
       "    </tr>\n",
       "    <tr>\n",
       "      <th>location</th>\n",
       "      <td>3724</td>\n",
       "    </tr>\n",
       "    <tr>\n",
       "      <th>good</th>\n",
       "      <td>3637</td>\n",
       "    </tr>\n",
       "    <tr>\n",
       "      <th>stayed</th>\n",
       "      <td>2935</td>\n",
       "    </tr>\n",
       "    <tr>\n",
       "      <th>friendly</th>\n",
       "      <td>2817</td>\n",
       "    </tr>\n",
       "  </tbody>\n",
       "</table>\n",
       "</div>"
      ],
      "text/plain": [
       "           count\n",
       "hotel      12370\n",
       "room       10282\n",
       "stay        7890\n",
       "staff       6250\n",
       "great       5909\n",
       "clean       4222\n",
       "breakfast   4174\n",
       "thank       3961\n",
       "nice        3919\n",
       "time        3837\n",
       "rooms       3737\n",
       "location    3724\n",
       "good        3637\n",
       "stayed      2935\n",
       "friendly    2817"
      ]
     },
     "execution_count": 24,
     "metadata": {},
     "output_type": "execute_result"
    }
   ],
   "source": [
    "#add additional options to count vectorizer\n",
    "#code taken from week 5 examples\n",
    "\n",
    "#define and apply the vectorizer\n",
    "\n",
    "cv2 = CountVectorizer(binary=False, stop_words = my_stopwords, max_df = 0.99, min_df = 0.01, ngram_range = (1,2))\n",
    "cv2_transcript = cv2.fit_transform(hotel_df['reviews.text'])\n",
    "print(cv2_transcript.shape)\n",
    "\n",
    "#get list of features + counts\n",
    "\n",
    "names = cv2.get_feature_names()\n",
    "count = np.sum(cv2_transcript.toarray(), axis = 0) \n",
    "count2 = count.tolist()\n",
    "\n",
    "#create new data frame with features and counts\n",
    "\n",
    "count_df = pd.DataFrame(count2, index = names, columns = ['count'])\n",
    "sorted_count = count_df.sort_values(['count'], ascending = False)\n",
    "\n",
    "#output list of feature counts w/o stop words\n",
    "\n",
    "sorted_count.head(15)\n",
    "\n",
    "#NOTE: this was attempted w/ max_df = 0.95 and min_df = 0.05\n",
    "#the resulting feature list was only 197 so these values were changed to current"
   ]
  },
  {
   "cell_type": "code",
   "execution_count": 25,
   "metadata": {},
   "outputs": [],
   "source": [
    "#output feature names\n",
    "#code taken from week 5 examples\n",
    "\n",
    "#cv2.get_feature_names()\n",
    "\n",
    "#NOTE: this feature list looks much better"
   ]
  },
  {
   "cell_type": "markdown",
   "metadata": {},
   "source": [
    "# Next iteration of prediction:"
   ]
  },
  {
   "cell_type": "code",
   "execution_count": 26,
   "metadata": {},
   "outputs": [],
   "source": [
    "#set X and Y variables for train/test sets\n",
    "#code taken from week 5 examples\n",
    "\n",
    "#declare variables\n",
    "#X = features\n",
    "#Y = labels\n",
    "\n",
    "X2 = cv2_transcript.toarray()\n",
    "#print(type(X2), X2[0:10])\n",
    "\n",
    "Y2 = hotel_df['reviews.rating'].values\n",
    "#print(type(Y2), Y2[0:10])"
   ]
  },
  {
   "cell_type": "code",
   "execution_count": 27,
   "metadata": {},
   "outputs": [
    {
     "name": "stdout",
     "output_type": "stream",
     "text": [
      "(7000, 1125)\n",
      "(3000, 1125)\n",
      "(7000,)\n",
      "(3000,)\n"
     ]
    }
   ],
   "source": [
    "#split data into training and test sets - 70/30 split\n",
    "#code taken from week 5 examples\n",
    "\n",
    "X2_train, X2_test, Y2_train, Y2_test = train_test_split(X2, Y2, test_size=0.3, random_state=42)\n",
    "\n",
    "#output set sizes, confirm correct size\n",
    "\n",
    "print(X2_train.shape) #number of columns should match X_test (2 in this case)\n",
    "print(X2_test.shape)\n",
    "print(Y2_train.shape) #number of columns should match Y_test and should only be 1\n",
    "print(Y2_test.shape)"
   ]
  },
  {
   "cell_type": "code",
   "execution_count": 28,
   "metadata": {},
   "outputs": [
    {
     "name": "stdout",
     "output_type": "stream",
     "text": [
      "DecisionTreeClassifier(random_state=42)\n",
      "0.47733333333333333\n",
      "accuracy: 0.47733333333333333\n",
      "              precision    recall  f1-score   support\n",
      "\n",
      "           1       0.32      0.29      0.30       169\n",
      "           2       0.20      0.18      0.19       169\n",
      "           3       0.24      0.22      0.23       343\n",
      "           4       0.38      0.40      0.39       870\n",
      "           5       0.63      0.64      0.64      1449\n",
      "\n",
      "    accuracy                           0.48      3000\n",
      "   macro avg       0.36      0.35      0.35      3000\n",
      "weighted avg       0.47      0.48      0.48      3000\n",
      "\n"
     ]
    }
   ],
   "source": [
    "#use decision tree for prediction\n",
    "#code taken from week 5 examples\n",
    "\n",
    "#fit a Decision Tree model to the data\n",
    "\n",
    "model = DecisionTreeClassifier(random_state = 42)\n",
    "print(model)\n",
    "model.fit(X2_train, Y2_train)\n",
    "\n",
    "#make predictions\n",
    "\n",
    "dt0_expected2 = Y2_test\n",
    "dt0_predicted2 = model.predict(X2_test)\n",
    "\n",
    "print(model.score(X2_test, Y2_test))\n",
    "\n",
    "#summarize the fit of the model\n",
    "\n",
    "print(\"accuracy: \" + str(metrics.accuracy_score(dt0_expected2, dt0_predicted2))) #metrics.accuracy_score is part of DecisionTreeClassifier\n",
    "print(metrics.classification_report(dt0_expected2, dt0_predicted2))"
   ]
  },
  {
   "cell_type": "code",
   "execution_count": 29,
   "metadata": {},
   "outputs": [
    {
     "data": {
      "text/plain": [
       "87"
      ]
     },
     "execution_count": 29,
     "metadata": {},
     "output_type": "execute_result"
    }
   ],
   "source": [
    "#check depth of initial model\n",
    "#code taken from https://scikit-learn.org/stable/modules/generated/sklearn.tree.DecisionTreeClassifier.html\n",
    "\n",
    "model.get_depth()"
   ]
  },
  {
   "cell_type": "code",
   "execution_count": 30,
   "metadata": {},
   "outputs": [
    {
     "name": "stdout",
     "output_type": "stream",
     "text": [
      "DecisionTreeClassifier(max_depth=75, random_state=42)\n",
      "0.479\n",
      "accuracy: 0.479\n",
      "              precision    recall  f1-score   support\n",
      "\n",
      "           1       0.34      0.28      0.31       169\n",
      "           2       0.25      0.20      0.22       169\n",
      "           3       0.25      0.24      0.25       343\n",
      "           4       0.37      0.39      0.38       870\n",
      "           5       0.63      0.65      0.64      1449\n",
      "\n",
      "    accuracy                           0.48      3000\n",
      "   macro avg       0.37      0.35      0.36      3000\n",
      "weighted avg       0.47      0.48      0.48      3000\n",
      "\n"
     ]
    }
   ],
   "source": [
    "#tweak 1 (change max_depth = 75)\n",
    "#NOTE: also tried min_samples_split = 5, accuracy was worse\n",
    "#code taken from week 5 examples\n",
    "\n",
    "#fit a Decision Tree model to the data\n",
    "\n",
    "model = DecisionTreeClassifier(random_state = 42, max_depth = 75)\n",
    "print(model)\n",
    "model.fit(X2_train, Y2_train)\n",
    "\n",
    "#make predictions\n",
    "\n",
    "dt1_expected2 = Y2_test\n",
    "dt1_predicted2 = model.predict(X2_test)\n",
    "\n",
    "print(model.score(X2_test, Y2_test))\n",
    "\n",
    "#summarize the fit of the model\n",
    "\n",
    "print(\"accuracy: \" + str(metrics.accuracy_score(dt1_expected2, dt1_predicted2))) #metrics.accuracy_score is part of DecisionTreeClassifier\n",
    "print(metrics.classification_report(dt1_expected2, dt1_predicted2))"
   ]
  },
  {
   "cell_type": "code",
   "execution_count": 31,
   "metadata": {},
   "outputs": [
    {
     "name": "stdout",
     "output_type": "stream",
     "text": [
      "MultinomialNB()\n",
      "0.603\n",
      "accuracy: 0.603\n",
      "              precision    recall  f1-score   support\n",
      "\n",
      "           1       0.45      0.64      0.53       169\n",
      "           2       0.31      0.27      0.29       169\n",
      "           3       0.38      0.39      0.38       343\n",
      "           4       0.52      0.51      0.52       870\n",
      "           5       0.77      0.74      0.76      1449\n",
      "\n",
      "    accuracy                           0.60      3000\n",
      "   macro avg       0.48      0.51      0.49      3000\n",
      "weighted avg       0.61      0.60      0.60      3000\n",
      "\n"
     ]
    }
   ],
   "source": [
    "#use naive bayes for prediction\n",
    "#code taken from week 5 examples\n",
    "\n",
    "#fit a Naive Bayes model to the data\n",
    "\n",
    "model = MultinomialNB()\n",
    "print(model)\n",
    "model.fit(X2_train, Y2_train)\n",
    "\n",
    "#make predictions\n",
    "\n",
    "nb0_expected2 = Y2_test\n",
    "nb0_predicted2 = model.predict(X2_test)\n",
    "\n",
    "print(model.score(X2_test, Y2_test))\n",
    "\n",
    "#summarize the fit of the model\n",
    "\n",
    "print(\"accuracy: \" + str(metrics.accuracy_score(nb0_expected2, nb0_predicted2)))\n",
    "print(metrics.classification_report(nb0_expected2, nb0_predicted2))"
   ]
  },
  {
   "cell_type": "code",
   "execution_count": 32,
   "metadata": {},
   "outputs": [
    {
     "name": "stdout",
     "output_type": "stream",
     "text": [
      "LogisticRegression(max_iter=500, random_state=42)\n",
      "0.5933333333333334\n",
      "accuracy: 0.5933333333333334\n",
      "              precision    recall  f1-score   support\n",
      "\n",
      "           1       0.50      0.50      0.50       169\n",
      "           2       0.31      0.22      0.26       169\n",
      "           3       0.36      0.36      0.36       343\n",
      "           4       0.50      0.46      0.48       870\n",
      "           5       0.72      0.79      0.75      1449\n",
      "\n",
      "    accuracy                           0.59      3000\n",
      "   macro avg       0.48      0.46      0.47      3000\n",
      "weighted avg       0.58      0.59      0.59      3000\n",
      "\n"
     ]
    }
   ],
   "source": [
    "#use logistic regression for prediction\n",
    "#code taken from week 5 examples\n",
    "\n",
    "#fit a logistic regression model to the data\n",
    "#NOTE: default max_iter=100 failed\n",
    "#NOTE: also tried increasing max_iter = 1000, no change in accuracy\n",
    "#adding the class_weight parameter resulted in lower accuarcy\n",
    "\n",
    "model = LogisticRegression(random_state = 42, solver = 'lbfgs', multi_class = 'auto', max_iter = 500)\n",
    "print(model)\n",
    "model.fit(X2_train, Y2_train)\n",
    "\n",
    "#make predictions\n",
    "\n",
    "lr0_expected2 = Y2_test\n",
    "lr0_predicted2 = model.predict(X2_test)\n",
    "\n",
    "print(model.score(X2_test, Y2_test))\n",
    "\n",
    "#summarize the fit of the model\n",
    "\n",
    "print(\"accuracy: \" + str(metrics.accuracy_score(lr0_expected2, lr0_predicted2)))\n",
    "print(metrics.classification_report(lr0_expected2, lr0_predicted2))"
   ]
  },
  {
   "cell_type": "markdown",
   "metadata": {},
   "source": [
    "# Next iteration: use a weighted vectorizer"
   ]
  },
  {
   "cell_type": "code",
   "execution_count": 33,
   "metadata": {},
   "outputs": [
    {
     "name": "stdout",
     "output_type": "stream",
     "text": [
      "(10000, 1125)\n"
     ]
    },
    {
     "data": {
      "text/html": [
       "<div>\n",
       "<style scoped>\n",
       "    .dataframe tbody tr th:only-of-type {\n",
       "        vertical-align: middle;\n",
       "    }\n",
       "\n",
       "    .dataframe tbody tr th {\n",
       "        vertical-align: top;\n",
       "    }\n",
       "\n",
       "    .dataframe thead th {\n",
       "        text-align: right;\n",
       "    }\n",
       "</style>\n",
       "<table border=\"1\" class=\"dataframe\">\n",
       "  <thead>\n",
       "    <tr style=\"text-align: right;\">\n",
       "      <th></th>\n",
       "      <th>count</th>\n",
       "    </tr>\n",
       "  </thead>\n",
       "  <tbody>\n",
       "    <tr>\n",
       "      <th>hotel</th>\n",
       "      <td>615.079728</td>\n",
       "    </tr>\n",
       "    <tr>\n",
       "      <th>room</th>\n",
       "      <td>541.852456</td>\n",
       "    </tr>\n",
       "    <tr>\n",
       "      <th>stay</th>\n",
       "      <td>447.142862</td>\n",
       "    </tr>\n",
       "    <tr>\n",
       "      <th>great</th>\n",
       "      <td>417.990009</td>\n",
       "    </tr>\n",
       "    <tr>\n",
       "      <th>staff</th>\n",
       "      <td>397.099023</td>\n",
       "    </tr>\n",
       "    <tr>\n",
       "      <th>clean</th>\n",
       "      <td>331.271917</td>\n",
       "    </tr>\n",
       "    <tr>\n",
       "      <th>nice</th>\n",
       "      <td>320.898912</td>\n",
       "    </tr>\n",
       "    <tr>\n",
       "      <th>breakfast</th>\n",
       "      <td>314.016380</td>\n",
       "    </tr>\n",
       "    <tr>\n",
       "      <th>rooms</th>\n",
       "      <td>297.819189</td>\n",
       "    </tr>\n",
       "    <tr>\n",
       "      <th>good</th>\n",
       "      <td>294.820548</td>\n",
       "    </tr>\n",
       "    <tr>\n",
       "      <th>location</th>\n",
       "      <td>285.225595</td>\n",
       "    </tr>\n",
       "    <tr>\n",
       "      <th>time</th>\n",
       "      <td>263.537621</td>\n",
       "    </tr>\n",
       "    <tr>\n",
       "      <th>stayed</th>\n",
       "      <td>258.364447</td>\n",
       "    </tr>\n",
       "    <tr>\n",
       "      <th>thank</th>\n",
       "      <td>257.138471</td>\n",
       "    </tr>\n",
       "    <tr>\n",
       "      <th>friendly</th>\n",
       "      <td>254.405411</td>\n",
       "    </tr>\n",
       "  </tbody>\n",
       "</table>\n",
       "</div>"
      ],
      "text/plain": [
       "                count\n",
       "hotel      615.079728\n",
       "room       541.852456\n",
       "stay       447.142862\n",
       "great      417.990009\n",
       "staff      397.099023\n",
       "clean      331.271917\n",
       "nice       320.898912\n",
       "breakfast  314.016380\n",
       "rooms      297.819189\n",
       "good       294.820548\n",
       "location   285.225595\n",
       "time       263.537621\n",
       "stayed     258.364447\n",
       "thank      257.138471\n",
       "friendly   254.405411"
      ]
     },
     "execution_count": 33,
     "metadata": {},
     "output_type": "execute_result"
    }
   ],
   "source": [
    "#use a weighted vectorizer - with ngrams\n",
    "#code taken from week 5 examples\n",
    "\n",
    "#define and apply the vectorizer\n",
    "\n",
    "tfidf = TfidfVectorizer(stop_words = my_stopwords, max_df = 0.99, min_df = 0.01, ngram_range = (1,2))\n",
    "tfidf_transcript = tfidf.fit_transform(hotel_df['reviews.text'])\n",
    "print(tfidf_transcript.shape)\n",
    "\n",
    "#get list of features + counts\n",
    "\n",
    "names = tfidf.get_feature_names()\n",
    "count = np.sum(tfidf_transcript.toarray(), axis = 0) \n",
    "count2 = count.tolist()\n",
    "\n",
    "#create new data frame with features and counts\n",
    "\n",
    "count_df = pd.DataFrame(count2, index = names, columns = ['count'])\n",
    "sorted_count = count_df.sort_values(['count'], ascending = False)\n",
    "\n",
    "#output list of feature counts w/o stop words\n",
    "\n",
    "sorted_count.head(15)"
   ]
  },
  {
   "cell_type": "code",
   "execution_count": 34,
   "metadata": {},
   "outputs": [
    {
     "name": "stdout",
     "output_type": "stream",
     "text": [
      "(10000, 910)\n"
     ]
    },
    {
     "data": {
      "text/html": [
       "<div>\n",
       "<style scoped>\n",
       "    .dataframe tbody tr th:only-of-type {\n",
       "        vertical-align: middle;\n",
       "    }\n",
       "\n",
       "    .dataframe tbody tr th {\n",
       "        vertical-align: top;\n",
       "    }\n",
       "\n",
       "    .dataframe thead th {\n",
       "        text-align: right;\n",
       "    }\n",
       "</style>\n",
       "<table border=\"1\" class=\"dataframe\">\n",
       "  <thead>\n",
       "    <tr style=\"text-align: right;\">\n",
       "      <th></th>\n",
       "      <th>count</th>\n",
       "    </tr>\n",
       "  </thead>\n",
       "  <tbody>\n",
       "    <tr>\n",
       "      <th>hotel</th>\n",
       "      <td>668.709534</td>\n",
       "    </tr>\n",
       "    <tr>\n",
       "      <th>room</th>\n",
       "      <td>580.809638</td>\n",
       "    </tr>\n",
       "    <tr>\n",
       "      <th>stay</th>\n",
       "      <td>490.285864</td>\n",
       "    </tr>\n",
       "    <tr>\n",
       "      <th>great</th>\n",
       "      <td>461.888548</td>\n",
       "    </tr>\n",
       "    <tr>\n",
       "      <th>staff</th>\n",
       "      <td>436.186337</td>\n",
       "    </tr>\n",
       "    <tr>\n",
       "      <th>clean</th>\n",
       "      <td>365.875973</td>\n",
       "    </tr>\n",
       "    <tr>\n",
       "      <th>nice</th>\n",
       "      <td>351.208942</td>\n",
       "    </tr>\n",
       "    <tr>\n",
       "      <th>breakfast</th>\n",
       "      <td>344.646076</td>\n",
       "    </tr>\n",
       "    <tr>\n",
       "      <th>rooms</th>\n",
       "      <td>322.547844</td>\n",
       "    </tr>\n",
       "    <tr>\n",
       "      <th>good</th>\n",
       "      <td>321.081999</td>\n",
       "    </tr>\n",
       "    <tr>\n",
       "      <th>location</th>\n",
       "      <td>312.729096</td>\n",
       "    </tr>\n",
       "    <tr>\n",
       "      <th>time</th>\n",
       "      <td>287.352845</td>\n",
       "    </tr>\n",
       "    <tr>\n",
       "      <th>thank</th>\n",
       "      <td>283.627284</td>\n",
       "    </tr>\n",
       "    <tr>\n",
       "      <th>friendly</th>\n",
       "      <td>281.671706</td>\n",
       "    </tr>\n",
       "    <tr>\n",
       "      <th>stayed</th>\n",
       "      <td>278.841600</td>\n",
       "    </tr>\n",
       "  </tbody>\n",
       "</table>\n",
       "</div>"
      ],
      "text/plain": [
       "                count\n",
       "hotel      668.709534\n",
       "room       580.809638\n",
       "stay       490.285864\n",
       "great      461.888548\n",
       "staff      436.186337\n",
       "clean      365.875973\n",
       "nice       351.208942\n",
       "breakfast  344.646076\n",
       "rooms      322.547844\n",
       "good       321.081999\n",
       "location   312.729096\n",
       "time       287.352845\n",
       "thank      283.627284\n",
       "friendly   281.671706\n",
       "stayed     278.841600"
      ]
     },
     "execution_count": 34,
     "metadata": {},
     "output_type": "execute_result"
    }
   ],
   "source": [
    "#use a weighted vectorizer - without ngrams\n",
    "#code taken from week 5 examples\n",
    "\n",
    "#define and apply the vectorizer\n",
    "\n",
    "tfidf2 = TfidfVectorizer(stop_words = my_stopwords, max_df = 0.99, min_df = 0.01)\n",
    "tfidf2_transcript = tfidf2.fit_transform(hotel_df['reviews.text'])\n",
    "print(tfidf2_transcript.shape)\n",
    "\n",
    "#get list of features + counts\n",
    "\n",
    "names = tfidf2.get_feature_names()\n",
    "count = np.sum(tfidf2_transcript.toarray(), axis = 0) \n",
    "count2 = count.tolist()\n",
    "\n",
    "#create new data frame with features and counts\n",
    "\n",
    "count_df = pd.DataFrame(count2, index = names, columns = ['count'])\n",
    "sorted_count = count_df.sort_values(['count'], ascending = False)\n",
    "\n",
    "#output list of feature counts w/o stop words\n",
    "\n",
    "sorted_count.head(15)"
   ]
  },
  {
   "cell_type": "markdown",
   "metadata": {},
   "source": [
    "# Next iteration of prediction:"
   ]
  },
  {
   "cell_type": "code",
   "execution_count": 35,
   "metadata": {},
   "outputs": [],
   "source": [
    "#set X and Y variables for train/test sets\n",
    "#code taken from week 5 examples\n",
    "\n",
    "#declare variables\n",
    "#X = features\n",
    "#Y = labels\n",
    "\n",
    "#with ngrams\n",
    "\n",
    "X3 = tfidf_transcript.toarray()\n",
    "#print(type(X3), X3[0:10])\n",
    "\n",
    "Y3 = hotel_df['reviews.rating'].values\n",
    "#print(type(Y3), Y3[0:10])\n",
    "\n",
    "#without ngrams\n",
    "\n",
    "X4 = tfidf2_transcript.toarray()\n",
    "#print(type(X3), X3[0:10])\n",
    "\n",
    "Y4 = hotel_df['reviews.rating'].values\n",
    "#print(type(Y3), Y3[0:10])"
   ]
  },
  {
   "cell_type": "code",
   "execution_count": 36,
   "metadata": {},
   "outputs": [
    {
     "name": "stdout",
     "output_type": "stream",
     "text": [
      "(7000, 1125)\n",
      "(3000, 1125)\n",
      "(7000,)\n",
      "(3000,)\n",
      "(7000, 910)\n",
      "(3000, 910)\n",
      "(7000,)\n",
      "(3000,)\n"
     ]
    }
   ],
   "source": [
    "#split data into training and test sets - 70/30 split\n",
    "#code taken from week 5 examples\n",
    "\n",
    "#with ngrams\n",
    "\n",
    "X3_train, X3_test, Y3_train, Y3_test = train_test_split(X3, Y3, test_size=0.3, random_state=42)\n",
    "\n",
    "#output set sizes, confirm correct size\n",
    "\n",
    "print(X3_train.shape) #number of columns should match X_test (2 in this case)\n",
    "print(X3_test.shape)\n",
    "print(Y3_train.shape) #number of columns should match Y_test and should only be 1\n",
    "print(Y3_test.shape)\n",
    "\n",
    "#without ngrams\n",
    "\n",
    "X4_train, X4_test, Y4_train, Y4_test = train_test_split(X4, Y4, test_size=0.3, random_state=42)\n",
    "\n",
    "#output set sizes, confirm correct size\n",
    "\n",
    "print(X4_train.shape) #number of columns should match X_test (2 in this case)\n",
    "print(X4_test.shape)\n",
    "print(Y4_train.shape) #number of columns should match Y_test and should only be 1\n",
    "print(Y4_test.shape)"
   ]
  },
  {
   "cell_type": "code",
   "execution_count": 37,
   "metadata": {},
   "outputs": [
    {
     "name": "stdout",
     "output_type": "stream",
     "text": [
      "DecisionTreeClassifier(random_state=42)\n",
      "0.467\n",
      "accuracy: 0.467\n",
      "              precision    recall  f1-score   support\n",
      "\n",
      "           1       0.29      0.28      0.28       169\n",
      "           2       0.21      0.13      0.16       169\n",
      "           3       0.23      0.25      0.24       343\n",
      "           4       0.37      0.39      0.38       870\n",
      "           5       0.62      0.63      0.62      1449\n",
      "\n",
      "    accuracy                           0.47      3000\n",
      "   macro avg       0.35      0.33      0.34      3000\n",
      "weighted avg       0.46      0.47      0.46      3000\n",
      "\n"
     ]
    }
   ],
   "source": [
    "#use decision tree for prediction\n",
    "#code taken from week 5 examples\n",
    "\n",
    "#with ngrams\n",
    "\n",
    "#fit a Decision Tree model to the data\n",
    "\n",
    "model = DecisionTreeClassifier(random_state = 42)\n",
    "print(model)\n",
    "model.fit(X3_train, Y3_train)\n",
    "\n",
    "#make predictions\n",
    "\n",
    "dt0_expected3 = Y3_test\n",
    "dt0_predicted3 = model.predict(X3_test)\n",
    "\n",
    "print(model.score(X3_test, Y3_test))\n",
    "\n",
    "#summarize the fit of the model\n",
    "\n",
    "print(\"accuracy: \" + str(metrics.accuracy_score(dt0_expected3, dt0_predicted3))) #metrics.accuracy_score is part of DecisionTreeClassifier\n",
    "print(metrics.classification_report(dt0_expected3, dt0_predicted3))"
   ]
  },
  {
   "cell_type": "code",
   "execution_count": 38,
   "metadata": {},
   "outputs": [
    {
     "name": "stdout",
     "output_type": "stream",
     "text": [
      "DecisionTreeClassifier(random_state=42)\n",
      "0.4676666666666667\n",
      "accuracy: 0.4676666666666667\n",
      "              precision    recall  f1-score   support\n",
      "\n",
      "           1       0.31      0.28      0.29       169\n",
      "           2       0.22      0.18      0.19       169\n",
      "           3       0.21      0.21      0.21       343\n",
      "           4       0.37      0.39      0.38       870\n",
      "           5       0.63      0.63      0.63      1449\n",
      "\n",
      "    accuracy                           0.47      3000\n",
      "   macro avg       0.35      0.34      0.34      3000\n",
      "weighted avg       0.46      0.47      0.47      3000\n",
      "\n"
     ]
    }
   ],
   "source": [
    "#use decision tree for prediction\n",
    "#code taken from week 5 examples\n",
    "\n",
    "#without ngrams\n",
    "\n",
    "#fit a Decision Tree model to the data\n",
    "\n",
    "model = DecisionTreeClassifier(random_state = 42)\n",
    "print(model)\n",
    "model.fit(X4_train, Y4_train)\n",
    "\n",
    "#make predictions\n",
    "\n",
    "dt0_expected4 = Y4_test\n",
    "dt0_predicted4 = model.predict(X4_test)\n",
    "\n",
    "print(model.score(X4_test, Y4_test))\n",
    "\n",
    "#summarize the fit of the model\n",
    "\n",
    "print(\"accuracy: \" + str(metrics.accuracy_score(dt0_expected4, dt0_predicted4))) #metrics.accuracy_score is part of DecisionTreeClassifier\n",
    "print(metrics.classification_report(dt0_expected4, dt0_predicted4))"
   ]
  },
  {
   "cell_type": "code",
   "execution_count": 39,
   "metadata": {},
   "outputs": [],
   "source": [
    "#the above models don't look much better than before - not going to proceed with additional tweaking"
   ]
  },
  {
   "cell_type": "code",
   "execution_count": 40,
   "metadata": {},
   "outputs": [
    {
     "name": "stdout",
     "output_type": "stream",
     "text": [
      "MultinomialNB()\n",
      "0.5936666666666667\n",
      "accuracy: 0.5936666666666667\n",
      "              precision    recall  f1-score   support\n",
      "\n",
      "           1       0.62      0.41      0.49       169\n",
      "           2       0.47      0.05      0.10       169\n",
      "           3       0.36      0.20      0.26       343\n",
      "           4       0.49      0.34      0.40       870\n",
      "           5       0.65      0.93      0.76      1449\n",
      "\n",
      "    accuracy                           0.59      3000\n",
      "   macro avg       0.52      0.39      0.40      3000\n",
      "weighted avg       0.56      0.59      0.55      3000\n",
      "\n"
     ]
    }
   ],
   "source": [
    "#use naive bayes for prediction\n",
    "#code taken from week 5 examples\n",
    "\n",
    "#with ngrams\n",
    "\n",
    "#fit a Naive Bayes model to the data\n",
    "\n",
    "model = MultinomialNB()\n",
    "print(model)\n",
    "model.fit(X3_train, Y3_train)\n",
    "\n",
    "#make predictions\n",
    "\n",
    "nb0_expected3 = Y3_test\n",
    "nb0_predicted3 = model.predict(X3_test)\n",
    "\n",
    "print(model.score(X3_test, Y3_test))\n",
    "\n",
    "#summarize the fit of the model\n",
    "\n",
    "print(\"accuracy: \" + str(metrics.accuracy_score(nb0_expected3, nb0_predicted3)))\n",
    "print(metrics.classification_report(nb0_expected3, nb0_predicted3))"
   ]
  },
  {
   "cell_type": "code",
   "execution_count": 41,
   "metadata": {},
   "outputs": [
    {
     "name": "stdout",
     "output_type": "stream",
     "text": [
      "MultinomialNB()\n",
      "0.587\n",
      "accuracy: 0.587\n",
      "              precision    recall  f1-score   support\n",
      "\n",
      "           1       0.66      0.39      0.49       169\n",
      "           2       0.50      0.05      0.09       169\n",
      "           3       0.36      0.18      0.24       343\n",
      "           4       0.47      0.31      0.37       870\n",
      "           5       0.64      0.93      0.76      1449\n",
      "\n",
      "    accuracy                           0.59      3000\n",
      "   macro avg       0.52      0.37      0.39      3000\n",
      "weighted avg       0.55      0.59      0.53      3000\n",
      "\n"
     ]
    }
   ],
   "source": [
    "#use naive bayes for prediction\n",
    "#code taken from week 5 examples\n",
    "\n",
    "#without ngrams\n",
    "\n",
    "#fit a Naive Bayes model to the data\n",
    "\n",
    "model = MultinomialNB()\n",
    "print(model)\n",
    "model.fit(X4_train, Y4_train)\n",
    "\n",
    "#make predictions\n",
    "\n",
    "nb0_expected4 = Y4_test\n",
    "nb0_predicted4 = model.predict(X4_test)\n",
    "\n",
    "print(model.score(X4_test, Y4_test))\n",
    "\n",
    "#summarize the fit of the model\n",
    "\n",
    "print(\"accuracy: \" + str(metrics.accuracy_score(nb0_expected4, nb0_predicted4)))\n",
    "print(metrics.classification_report(nb0_expected4, nb0_predicted4))"
   ]
  },
  {
   "cell_type": "code",
   "execution_count": 42,
   "metadata": {},
   "outputs": [
    {
     "name": "stdout",
     "output_type": "stream",
     "text": [
      "LogisticRegression(max_iter=500, random_state=42)\n",
      "0.6253333333333333\n",
      "accuracy: 0.6253333333333333\n",
      "              precision    recall  f1-score   support\n",
      "\n",
      "           1       0.67      0.49      0.56       169\n",
      "           2       0.47      0.14      0.22       169\n",
      "           3       0.42      0.32      0.36       343\n",
      "           4       0.53      0.48      0.50       870\n",
      "           5       0.70      0.86      0.77      1449\n",
      "\n",
      "    accuracy                           0.63      3000\n",
      "   macro avg       0.56      0.46      0.48      3000\n",
      "weighted avg       0.60      0.63      0.60      3000\n",
      "\n"
     ]
    }
   ],
   "source": [
    "#use logistic regression for prediction\n",
    "#code taken from week 5 examples\n",
    "\n",
    "#fit a logistic regression model to the data\n",
    "#NOTE: default max_iter=100 failed\n",
    "#NOTE: also tried increasing max_iter = 1000, no change in accuracy\n",
    "#adding the class_weight parameter resulted in lower accuarcy\n",
    "\n",
    "#with ngrams\n",
    "\n",
    "model = LogisticRegression(random_state = 42, solver = 'lbfgs', multi_class = 'auto', max_iter = 500)\n",
    "print(model)\n",
    "model.fit(X3_train, Y3_train)\n",
    "\n",
    "#make predictions\n",
    "\n",
    "lr0_expected3 = Y3_test\n",
    "lr0_predicted3 = model.predict(X3_test)\n",
    "\n",
    "print(model.score(X3_test, Y3_test))\n",
    "\n",
    "#summarize the fit of the model\n",
    "\n",
    "print(\"accuracy: \" + str(metrics.accuracy_score(lr0_expected3, lr0_predicted3)))\n",
    "print(metrics.classification_report(lr0_expected3, lr0_predicted3))"
   ]
  },
  {
   "cell_type": "code",
   "execution_count": 43,
   "metadata": {},
   "outputs": [
    {
     "name": "stdout",
     "output_type": "stream",
     "text": [
      "LogisticRegression(max_iter=500, random_state=42)\n",
      "0.631\n",
      "accuracy: 0.631\n",
      "              precision    recall  f1-score   support\n",
      "\n",
      "           1       0.65      0.51      0.57       169\n",
      "           2       0.45      0.16      0.24       169\n",
      "           3       0.43      0.32      0.37       343\n",
      "           4       0.53      0.49      0.51       870\n",
      "           5       0.71      0.86      0.78      1449\n",
      "\n",
      "    accuracy                           0.63      3000\n",
      "   macro avg       0.55      0.47      0.49      3000\n",
      "weighted avg       0.61      0.63      0.61      3000\n",
      "\n"
     ]
    }
   ],
   "source": [
    "#use logistic regression for prediction\n",
    "#code taken from week 5 examples\n",
    "\n",
    "#fit a logistic regression model to the data\n",
    "#NOTE: default max_iter=100 failed\n",
    "#NOTE: also tried increasing max_iter = 1000, no change in accuracy\n",
    "#adding the class_weight parameter resulted in lower accuarcy\n",
    "\n",
    "#without ngrams\n",
    "\n",
    "model = LogisticRegression(random_state = 42, solver = 'lbfgs', multi_class = 'auto', max_iter = 500)\n",
    "print(model)\n",
    "model.fit(X4_train, Y4_train)\n",
    "\n",
    "#make predictions\n",
    "\n",
    "lr0_expected4 = Y4_test\n",
    "lr0_predicted4 = model.predict(X4_test)\n",
    "\n",
    "print(model.score(X4_test, Y4_test))\n",
    "\n",
    "#summarize the fit of the model\n",
    "\n",
    "print(\"accuracy: \" + str(metrics.accuracy_score(lr0_expected4, lr0_predicted4)))\n",
    "print(metrics.classification_report(lr0_expected4, lr0_predicted4))"
   ]
  },
  {
   "cell_type": "markdown",
   "metadata": {},
   "source": [
    "# Next iteration: count vectorizer with ngrams, no weights"
   ]
  },
  {
   "cell_type": "code",
   "execution_count": 44,
   "metadata": {},
   "outputs": [
    {
     "name": "stdout",
     "output_type": "stream",
     "text": [
      "(10000, 313081)\n"
     ]
    }
   ],
   "source": [
    "#add only ngrams to vectorizer\n",
    "#code taken from week 5 examples\n",
    "\n",
    "#define and apply the vectorizer\n",
    "\n",
    "cv3 = CountVectorizer(binary=False, stop_words = nltk_stopwords, ngram_range = (1,2))\n",
    "cv3_transcript = cv3.fit_transform(hotel_df['reviews.text'])\n",
    "print(cv3_transcript.shape)\n",
    "\n",
    "#get list of features + counts\n",
    "\n",
    "###\n",
    "#commenting out the below lines to clean-up output\n",
    "###\n",
    "\n",
    "##names = cv3.get_feature_names()\n",
    "##count = np.sum(cv3_transcript.toarray(), axis = 0) \n",
    "##count2 = count.tolist()\n",
    "\n",
    "#create new data frame with features and counts\n",
    "\n",
    "##count_df = pd.DataFrame(count2, index = names, columns = ['count'])\n",
    "##sorted_count = count_df.sort_values(['count'], ascending = False)\n",
    "\n",
    "#output list of feature counts w/o stop words\n",
    "\n",
    "##sorted_count.head(15)\n",
    "\n",
    "#this results in a massive feature set - cannot proceed due to memory constraints."
   ]
  },
  {
   "cell_type": "markdown",
   "metadata": {},
   "source": [
    "# Results:"
   ]
  },
  {
   "cell_type": "code",
   "execution_count": 45,
   "metadata": {},
   "outputs": [],
   "source": [
    "#Define confusion matrix procedure\n",
    "#code taken from week 5 examples\n",
    "\n",
    "def create_cm(t1, t2):\n",
    "    cm = metrics.confusion_matrix(t1, t2)\n",
    "    plt.matshow(cm)\n",
    "    plt.title('Confusion matrix')\n",
    "    plt.colorbar()\n",
    "    plt.ylabel('True label')\n",
    "    plt.xlabel('Predicted label')\n",
    "    plt.show()\n",
    "    print(cm)"
   ]
  },
  {
   "cell_type": "code",
   "execution_count": 46,
   "metadata": {
    "scrolled": false
   },
   "outputs": [
    {
     "name": "stdout",
     "output_type": "stream",
     "text": [
      "Decision Tree Predictions:\n",
      "\n",
      "\n",
      "Count Vectorizer, No Tweaks - No min/max df, no ngrams\n"
     ]
    },
    {
     "data": {
      "image/png": "[encoded data removed]",
      "text/plain": [
       "<Figure size 288x288 with 2 Axes>"
      ]
     },
     "metadata": {
      "needs_background": "light"
     },
     "output_type": "display_data"
    },
    {
     "name": "stdout",
     "output_type": "stream",
     "text": [
      "[[ 45  22  41  33  28]\n",
      " [ 28  32  39  46  24]\n",
      " [ 18  22  80 110 113]\n",
      " [ 11  26  87 323 423]\n",
      " [ 20  19  84 349 977]]\n",
      "\n",
      "\n",
      "              precision    recall  f1-score   support\n",
      "\n",
      "           1    0.36885   0.26627   0.30928       169\n",
      "           2    0.26446   0.18935   0.22069       169\n",
      "           3    0.24169   0.23324   0.23739       343\n",
      "           4    0.37515   0.37126   0.37319       870\n",
      "           5    0.62428   0.67426   0.64831      1449\n",
      "\n",
      "    accuracy                        0.48567      3000\n",
      "   macro avg    0.37489   0.34688   0.35777      3000\n",
      "weighted avg    0.47363   0.48567   0.47836      3000\n",
      "\n",
      "\n",
      "\n",
      "Count Vectorizer, Tweak 1 - No min/max df, no ngrams\n"
     ]
    },
    {
     "data": {
      "image/png": "[encoded data removed]",
      "text/plain": [
       "<Figure size 288x288 with 2 Axes>"
      ]
     },
     "metadata": {
      "needs_background": "light"
     },
     "output_type": "display_data"
    },
    {
     "name": "stdout",
     "output_type": "stream",
     "text": [
      "[[ 47  24  37  34  27]\n",
      " [ 30  32  39  44  24]\n",
      " [ 20  20  80 108 115]\n",
      " [ 12  28  81 330 419]\n",
      " [ 20  17  84 349 979]]\n",
      "\n",
      "\n",
      "              precision    recall  f1-score   support\n",
      "\n",
      "           1    0.36434   0.27811   0.31544       169\n",
      "           2    0.26446   0.18935   0.22069       169\n",
      "           3    0.24922   0.23324   0.24096       343\n",
      "           4    0.38150   0.37931   0.38040       870\n",
      "           5    0.62596   0.67564   0.64985      1449\n",
      "\n",
      "    accuracy                        0.48933      3000\n",
      "   macro avg    0.37710   0.35113   0.36147      3000\n",
      "weighted avg    0.47689   0.48933   0.48195      3000\n",
      "\n",
      "\n",
      "\n",
      "Count Vectorizer, Tweak 2 - No min/max df, no ngrams\n"
     ]
    },
    {
     "data": {
      "image/png": "[encoded data removed]",
      "text/plain": [
       "<Figure size 288x288 with 2 Axes>"
      ]
     },
     "metadata": {
      "needs_background": "light"
     },
     "output_type": "display_data"
    },
    {
     "name": "stdout",
     "output_type": "stream",
     "text": [
      "[[ 46  22  44  29  28]\n",
      " [ 32  29  40  42  26]\n",
      " [ 26  19  85 103 110]\n",
      " [ 18  27  88 323 414]\n",
      " [ 23  17  81 335 993]]\n",
      "\n",
      "\n",
      "              precision    recall  f1-score   support\n",
      "\n",
      "           1    0.31724   0.27219   0.29299       169\n",
      "           2    0.25439   0.17160   0.20495       169\n",
      "           3    0.25148   0.24781   0.24963       343\n",
      "           4    0.38822   0.37126   0.37955       870\n",
      "           5    0.63208   0.68530   0.65762      1449\n",
      "\n",
      "    accuracy                        0.49200      3000\n",
      "   macro avg    0.36868   0.34963   0.35695      3000\n",
      "weighted avg    0.47883   0.49200   0.48429      3000\n",
      "\n",
      "\n",
      "\n",
      "Count Vectorizer, Tweak 3 - No min/max df, no ngrams\n"
     ]
    },
    {
     "data": {
      "image/png": "[encoded data removed]",
      "text/plain": [
       "<Figure size 288x288 with 2 Axes>"
      ]
     },
     "metadata": {
      "needs_background": "light"
     },
     "output_type": "display_data"
    },
    {
     "name": "stdout",
     "output_type": "stream",
     "text": [
      "[[ 45  22  41  33  28]\n",
      " [ 28  36  36  42  27]\n",
      " [ 17  17  88 106 115]\n",
      " [ 11  22  85 335 417]\n",
      " [ 18  21  88 350 972]]\n",
      "\n",
      "\n",
      "              precision    recall  f1-score   support\n",
      "\n",
      "           1    0.37815   0.26627   0.31250       169\n",
      "           2    0.30508   0.21302   0.25087       169\n",
      "           3    0.26036   0.25656   0.25844       343\n",
      "           4    0.38684   0.38506   0.38594       870\n",
      "           5    0.62348   0.67081   0.64628      1449\n",
      "\n",
      "    accuracy                        0.49200      3000\n",
      "   macro avg    0.39078   0.35834   0.37081      3000\n",
      "weighted avg    0.48158   0.49200   0.48536      3000\n",
      "\n",
      "\n",
      "\n",
      "Count Vectorizer, Tweak 4 - No min/max df, no ngrams\n"
     ]
    },
    {
     "data": {
      "image/png": "[encoded data removed]",
      "text/plain": [
       "<Figure size 288x288 with 2 Axes>"
      ]
     },
     "metadata": {
      "needs_background": "light"
     },
     "output_type": "display_data"
    },
    {
     "name": "stdout",
     "output_type": "stream",
     "text": [
      "[[ 49  23  41  29  27]\n",
      " [ 31  30  39  42  27]\n",
      " [ 28  19  80 105 111]\n",
      " [ 16  25  85 329 415]\n",
      " [ 25  15  79 337 993]]\n",
      "\n",
      "\n",
      "              precision    recall  f1-score   support\n",
      "\n",
      "           1    0.32886   0.28994   0.30818       169\n",
      "           2    0.26786   0.17751   0.21352       169\n",
      "           3    0.24691   0.23324   0.23988       343\n",
      "           4    0.39074   0.37816   0.38435       870\n",
      "           5    0.63128   0.68530   0.65718      1449\n",
      "\n",
      "    accuracy                        0.49367      3000\n",
      "   macro avg    0.37313   0.35283   0.36062      3000\n",
      "weighted avg    0.48007   0.49367   0.48569      3000\n",
      "\n"
     ]
    }
   ],
   "source": [
    "#print confusion matricies for decision tree predictions\n",
    "#code taken from week 5 examples and https://scikit-learn.org/stable/modules/generated/sklearn.metrics.classification_report.html#sklearn.metrics.classification_report\n",
    "\n",
    "print(\"Decision Tree Predictions:\")\n",
    "print(\"\\n\")\n",
    "print(\"Count Vectorizer, No Tweaks - No min/max df, no ngrams\")\n",
    "create_cm(dt0_expected, dt0_predicted)\n",
    "print(\"\\n\")\n",
    "print(metrics.classification_report(dt0_expected, dt0_predicted, digits=5))\n",
    "print(\"\\n\")\n",
    "print(\"Count Vectorizer, Tweak 1 - No min/max df, no ngrams\")\n",
    "create_cm(dt1_expected, dt1_predicted)\n",
    "print(\"\\n\")\n",
    "print(metrics.classification_report(dt1_expected, dt1_predicted, digits=5))\n",
    "print(\"\\n\")\n",
    "print(\"Count Vectorizer, Tweak 2 - No min/max df, no ngrams\")\n",
    "create_cm(dt2_expected, dt2_predicted)\n",
    "print(\"\\n\")\n",
    "print(metrics.classification_report(dt2_expected, dt2_predicted, digits=5))\n",
    "print(\"\\n\")\n",
    "print(\"Count Vectorizer, Tweak 3 - No min/max df, no ngrams\")\n",
    "create_cm(dt3_expected, dt3_predicted)\n",
    "print(\"\\n\")\n",
    "print(metrics.classification_report(dt3_expected, dt3_predicted, digits=5))\n",
    "print(\"\\n\")\n",
    "print(\"Count Vectorizer, Tweak 4 - No min/max df, no ngrams\")\n",
    "create_cm(dt4_expected, dt4_predicted)\n",
    "print(\"\\n\")\n",
    "print(metrics.classification_report(dt4_expected, dt4_predicted, digits=5))"
   ]
  },
  {
   "cell_type": "code",
   "execution_count": 47,
   "metadata": {
    "scrolled": false
   },
   "outputs": [
    {
     "name": "stdout",
     "output_type": "stream",
     "text": [
      "Decision Tree Predictions:\n",
      "\n",
      "\n",
      "Count Vectorizer, No Tweaks - Min/max df, ngrams\n"
     ]
    },
    {
     "data": {
      "image/png": "[encoded data removed]",
      "text/plain": [
       "<Figure size 288x288 with 2 Axes>"
      ]
     },
     "metadata": {
      "needs_background": "light"
     },
     "output_type": "display_data"
    },
    {
     "name": "stdout",
     "output_type": "stream",
     "text": [
      "[[ 49  32  25  36  27]\n",
      " [ 38  30  37  40  24]\n",
      " [ 26  24  77 113 103]\n",
      " [ 10  33  96 348 383]\n",
      " [ 30  30  85 376 928]]\n",
      "\n",
      "\n",
      "              precision    recall  f1-score   support\n",
      "\n",
      "           1    0.32026   0.28994   0.30435       169\n",
      "           2    0.20134   0.17751   0.18868       169\n",
      "           3    0.24063   0.22449   0.23228       343\n",
      "           4    0.38116   0.40000   0.39035       870\n",
      "           5    0.63345   0.64044   0.63693      1449\n",
      "\n",
      "    accuracy                        0.47733      3000\n",
      "   macro avg    0.35537   0.34648   0.35052      3000\n",
      "weighted avg    0.47339   0.47733   0.47517      3000\n",
      "\n",
      "\n",
      "\n",
      "Count Vectorizer, Tweak 1 - Min/max df, ngrams\n"
     ]
    },
    {
     "data": {
      "image/png": "[encoded data removed]",
      "text/plain": [
       "<Figure size 288x288 with 2 Axes>"
      ]
     },
     "metadata": {
      "needs_background": "light"
     },
     "output_type": "display_data"
    },
    {
     "name": "stdout",
     "output_type": "stream",
     "text": [
      "[[ 47  26  33  34  29]\n",
      " [ 35  33  38  36  27]\n",
      " [ 16  20  83 113 111]\n",
      " [ 18  33  93 336 390]\n",
      " [ 23  19  83 386 938]]\n",
      "\n",
      "\n",
      "              precision    recall  f1-score   support\n",
      "\n",
      "           1    0.33813   0.27811   0.30519       169\n",
      "           2    0.25191   0.19527   0.22000       169\n",
      "           3    0.25152   0.24198   0.24666       343\n",
      "           4    0.37127   0.38621   0.37859       870\n",
      "           5    0.62742   0.64734   0.63723      1449\n",
      "\n",
      "    accuracy                        0.47900      3000\n",
      "   macro avg    0.36805   0.34978   0.35753      3000\n",
      "weighted avg    0.47271   0.47900   0.47536      3000\n",
      "\n",
      "\n",
      "\n",
      "Tfidf Vectorizer, No Tweaks - Min/max df, ngrams\n"
     ]
    },
    {
     "data": {
      "image/png": "[encoded data removed]",
      "text/plain": [
       "<Figure size 288x288 with 2 Axes>"
      ]
     },
     "metadata": {
      "needs_background": "light"
     },
     "output_type": "display_data"
    },
    {
     "name": "stdout",
     "output_type": "stream",
     "text": [
      "[[ 47  22  51  23  26]\n",
      " [ 33  22  46  35  33]\n",
      " [ 25  14  85 115 104]\n",
      " [ 21  23  96 338 392]\n",
      " [ 35  25  88 392 909]]\n",
      "\n",
      "\n",
      "              precision    recall  f1-score   support\n",
      "\n",
      "           1    0.29193   0.27811   0.28485       169\n",
      "           2    0.20755   0.13018   0.16000       169\n",
      "           3    0.23224   0.24781   0.23977       343\n",
      "           4    0.37431   0.38851   0.38127       870\n",
      "           5    0.62090   0.62733   0.62410      1449\n",
      "\n",
      "    accuracy                        0.46700      3000\n",
      "   macro avg    0.34538   0.33439   0.33800      3000\n",
      "weighted avg    0.46313   0.46700   0.46448      3000\n",
      "\n",
      "\n",
      "\n",
      "Tfidf Vectorizer, No Tweaks - Min/max df, no ngrams\n"
     ]
    },
    {
     "data": {
      "image/png": "[encoded data removed]",
      "text/plain": [
       "<Figure size 288x288 with 2 Axes>"
      ]
     },
     "metadata": {
      "needs_background": "light"
     },
     "output_type": "display_data"
    },
    {
     "name": "stdout",
     "output_type": "stream",
     "text": [
      "[[ 47  28  32  34  28]\n",
      " [ 39  30  29  43  28]\n",
      " [ 24  29  72 118 100]\n",
      " [ 17  23 106 340 384]\n",
      " [ 25  29  96 385 914]]\n",
      "\n",
      "\n",
      "              precision    recall  f1-score   support\n",
      "\n",
      "           1    0.30921   0.27811   0.29283       169\n",
      "           2    0.21583   0.17751   0.19481       169\n",
      "           3    0.21493   0.20991   0.21239       343\n",
      "           4    0.36957   0.39080   0.37989       870\n",
      "           5    0.62861   0.63078   0.62969      1449\n",
      "\n",
      "    accuracy                        0.46767      3000\n",
      "   macro avg    0.34763   0.33742   0.34192      3000\n",
      "weighted avg    0.46494   0.46767   0.46606      3000\n",
      "\n"
     ]
    }
   ],
   "source": [
    "#print confusion matricies for decision tree predictions, continued\n",
    "#code taken from week 5 examples and https://scikit-learn.org/stable/modules/generated/sklearn.metrics.classification_report.html#sklearn.metrics.classification_report\n",
    "\n",
    "print(\"Decision Tree Predictions:\")\n",
    "print(\"\\n\")\n",
    "print(\"Count Vectorizer, No Tweaks - Min/max df, ngrams\")\n",
    "create_cm(dt0_expected2, dt0_predicted2)\n",
    "print(\"\\n\")\n",
    "print(metrics.classification_report(dt0_expected2, dt0_predicted2, digits=5))\n",
    "print(\"\\n\")\n",
    "print(\"Count Vectorizer, Tweak 1 - Min/max df, ngrams\")\n",
    "create_cm(dt1_expected2, dt1_predicted2)\n",
    "print(\"\\n\")\n",
    "print(metrics.classification_report(dt1_expected2, dt1_predicted2, digits=5))\n",
    "print(\"\\n\")\n",
    "print(\"Tfidf Vectorizer, No Tweaks - Min/max df, ngrams\")\n",
    "create_cm(dt0_expected3, dt0_predicted3)\n",
    "print(\"\\n\")\n",
    "print(metrics.classification_report(dt0_expected3, dt0_predicted3, digits=5))\n",
    "print(\"\\n\")\n",
    "print(\"Tfidf Vectorizer, No Tweaks - Min/max df, no ngrams\")\n",
    "create_cm(dt0_expected4, dt0_predicted4)\n",
    "print(\"\\n\")\n",
    "print(metrics.classification_report(dt0_expected4, dt0_predicted4, digits=5))"
   ]
  },
  {
   "cell_type": "code",
   "execution_count": 48,
   "metadata": {
    "scrolled": false
   },
   "outputs": [
    {
     "name": "stdout",
     "output_type": "stream",
     "text": [
      "Naive Bayes Predictions:\n",
      "\n",
      "\n",
      "Count Vectorizer, No Tweaks - No min/max df, no ngrams\n"
     ]
    },
    {
     "data": {
      "image/png": "[encoded data removed]",
      "text/plain": [
       "<Figure size 288x288 with 2 Axes>"
      ]
     },
     "metadata": {
      "needs_background": "light"
     },
     "output_type": "display_data"
    },
    {
     "name": "stdout",
     "output_type": "stream",
     "text": [
      "[[  68    7   80   11    3]\n",
      " [  23    8   92   38    8]\n",
      " [   3    3  121  173   43]\n",
      " [   0    2   36  458  374]\n",
      " [   3    2   17  196 1231]]\n",
      "\n",
      "\n",
      "              precision    recall  f1-score   support\n",
      "\n",
      "           1    0.70103   0.40237   0.51128       169\n",
      "           2    0.36364   0.04734   0.08377       169\n",
      "           3    0.34971   0.35277   0.35123       343\n",
      "           4    0.52283   0.52644   0.52463       870\n",
      "           5    0.74201   0.84955   0.79215      1449\n",
      "\n",
      "    accuracy                        0.62867      3000\n",
      "   macro avg    0.53584   0.43569   0.45261      3000\n",
      "weighted avg    0.60997   0.62867   0.60843      3000\n",
      "\n",
      "\n",
      "\n",
      "Count Vectorizer, No Tweaks - Min/max df, ngrams\n"
     ]
    },
    {
     "data": {
      "image/png": "[encoded data removed]",
      "text/plain": [
       "<Figure size 288x288 with 2 Axes>"
      ]
     },
     "metadata": {
      "needs_background": "light"
     },
     "output_type": "display_data"
    },
    {
     "name": "stdout",
     "output_type": "stream",
     "text": [
      "[[ 109   32   24    2    2]\n",
      " [  54   46   49   16    4]\n",
      " [  35   39  134  109   26]\n",
      " [  15   15  108  446  286]\n",
      " [  30   17   42  286 1074]]\n",
      "\n",
      "\n",
      "              precision    recall  f1-score   support\n",
      "\n",
      "           1    0.44856   0.64497   0.52913       169\n",
      "           2    0.30872   0.27219   0.28931       169\n",
      "           3    0.37535   0.39067   0.38286       343\n",
      "           4    0.51921   0.51264   0.51591       870\n",
      "           5    0.77155   0.74120   0.75607      1449\n",
      "\n",
      "    accuracy                        0.60300      3000\n",
      "   macro avg    0.48468   0.51233   0.49465      3000\n",
      "weighted avg    0.60881   0.60300   0.60467      3000\n",
      "\n",
      "\n",
      "\n",
      "Tfidf Vectorizer, No Tweaks - Min/max df, ngrams\n"
     ]
    },
    {
     "data": {
      "image/png": "[encoded data removed]",
      "text/plain": [
       "<Figure size 288x288 with 2 Axes>"
      ]
     },
     "metadata": {
      "needs_background": "light"
     },
     "output_type": "display_data"
    },
    {
     "name": "stdout",
     "output_type": "stream",
     "text": [
      "[[  69    6   48   13   33]\n",
      " [  24    9   54   39   43]\n",
      " [  12    4   70  148  109]\n",
      " [   4    0   22  292  552]\n",
      " [   2    0    1  105 1341]]\n",
      "\n",
      "\n",
      "              precision    recall  f1-score   support\n",
      "\n",
      "           1    0.62162   0.40828   0.49286       169\n",
      "           2    0.47368   0.05325   0.09574       169\n",
      "           3    0.35897   0.20408   0.26022       343\n",
      "           4    0.48911   0.33563   0.39809       870\n",
      "           5    0.64533   0.92547   0.76042      1449\n",
      "\n",
      "    accuracy                        0.59367      3000\n",
      "   macro avg    0.51774   0.38534   0.40147      3000\n",
      "weighted avg    0.55628   0.59367   0.54564      3000\n",
      "\n",
      "\n",
      "\n",
      "Tfidf Vectorizer, No Tweaks - Min/max df, no ngrams\n"
     ]
    },
    {
     "data": {
      "image/png": "[encoded data removed]",
      "text/plain": [
       "<Figure size 288x288 with 2 Axes>"
      ]
     },
     "metadata": {
      "needs_background": "light"
     },
     "output_type": "display_data"
    },
    {
     "name": "stdout",
     "output_type": "stream",
     "text": [
      "[[  66    5   44   16   38]\n",
      " [  20    8   42   54   45]\n",
      " [  10    3   62  151  117]\n",
      " [   2    0   21  273  574]\n",
      " [   2    0    2   93 1352]]\n",
      "\n",
      "\n",
      "              precision    recall  f1-score   support\n",
      "\n",
      "           1    0.66000   0.39053   0.49071       169\n",
      "           2    0.50000   0.04734   0.08649       169\n",
      "           3    0.36257   0.18076   0.24125       343\n",
      "           4    0.46508   0.31379   0.37474       870\n",
      "           5    0.63594   0.93306   0.75636      1449\n",
      "\n",
      "    accuracy                        0.58700      3000\n",
      "   macro avg    0.52472   0.37310   0.38991      3000\n",
      "weighted avg    0.54883   0.58700   0.53410      3000\n",
      "\n"
     ]
    }
   ],
   "source": [
    "#print confusion matricies for decision tree predictions\n",
    "#code taken from week 5 examples and https://scikit-learn.org/stable/modules/generated/sklearn.metrics.classification_report.html#sklearn.metrics.classification_report\n",
    "\n",
    "print(\"Naive Bayes Predictions:\")\n",
    "print(\"\\n\")\n",
    "print(\"Count Vectorizer, No Tweaks - No min/max df, no ngrams\")\n",
    "create_cm(nb0_expected, nb0_predicted)\n",
    "print(\"\\n\")\n",
    "print(metrics.classification_report(nb0_expected, nb0_predicted, digits=5))\n",
    "print(\"\\n\")\n",
    "print(\"Count Vectorizer, No Tweaks - Min/max df, ngrams\")\n",
    "create_cm(nb0_expected2, nb0_predicted2)\n",
    "print(\"\\n\")\n",
    "print(metrics.classification_report(nb0_expected2, nb0_predicted2, digits=5))\n",
    "print(\"\\n\")\n",
    "print(\"Tfidf Vectorizer, No Tweaks - Min/max df, ngrams\")\n",
    "create_cm(nb0_expected3, nb0_predicted3)\n",
    "print(\"\\n\")\n",
    "print(metrics.classification_report(nb0_expected3, nb0_predicted3, digits=5))\n",
    "print(\"\\n\")\n",
    "print(\"Tfidf Vectorizer, No Tweaks - Min/max df, no ngrams\")\n",
    "create_cm(nb0_expected4, nb0_predicted4)\n",
    "print(\"\\n\")\n",
    "print(metrics.classification_report(nb0_expected4, nb0_predicted4, digits=5))"
   ]
  },
  {
   "cell_type": "code",
   "execution_count": 49,
   "metadata": {
    "scrolled": false
   },
   "outputs": [
    {
     "name": "stdout",
     "output_type": "stream",
     "text": [
      "Logistic Regression Predictions:\n",
      "\n",
      "\n",
      "Count Vectorizer, No Tweaks - No min/max df, no ngrams\n"
     ]
    },
    {
     "data": {
      "image/png": "[encoded data removed]",
      "text/plain": [
       "<Figure size 288x288 with 2 Axes>"
      ]
     },
     "metadata": {
      "needs_background": "light"
     },
     "output_type": "display_data"
    },
    {
     "name": "stdout",
     "output_type": "stream",
     "text": [
      "[[  79   37   28   14   11]\n",
      " [  36   34   42   37   20]\n",
      " [  16   24  125  117   61]\n",
      " [   4    3   80  432  351]\n",
      " [   1    5   30  261 1152]]\n",
      "\n",
      "\n",
      "              precision    recall  f1-score   support\n",
      "\n",
      "           1    0.58088   0.46746   0.51803       169\n",
      "           2    0.33010   0.20118   0.25000       169\n",
      "           3    0.40984   0.36443   0.38580       343\n",
      "           4    0.50174   0.49655   0.49913       870\n",
      "           5    0.72226   0.79503   0.75690      1449\n",
      "\n",
      "    accuracy                        0.60733      3000\n",
      "   macro avg    0.50896   0.46493   0.48197      3000\n",
      "weighted avg    0.59253   0.60733   0.59771      3000\n",
      "\n",
      "\n",
      "\n",
      "Count Vectorizer, Tweak 1 - No min/max df, no ngrams\n"
     ]
    },
    {
     "data": {
      "image/png": "[encoded data removed]",
      "text/plain": [
       "<Figure size 288x288 with 2 Axes>"
      ]
     },
     "metadata": {
      "needs_background": "light"
     },
     "output_type": "display_data"
    },
    {
     "name": "stdout",
     "output_type": "stream",
     "text": [
      "[[  90   38   29    8    4]\n",
      " [  44   46   39   30   10]\n",
      " [  23   34  136  105   45]\n",
      " [   8   11  111  437  303]\n",
      " [   8   11   56  311 1063]]\n",
      "\n",
      "\n",
      "              precision    recall  f1-score   support\n",
      "\n",
      "           1    0.44856   0.64497   0.52913       169\n",
      "           2    0.30872   0.27219   0.28931       169\n",
      "           3    0.37535   0.39067   0.38286       343\n",
      "           4    0.51921   0.51264   0.51591       870\n",
      "           5    0.77155   0.74120   0.75607      1449\n",
      "\n",
      "    accuracy                        0.60300      3000\n",
      "   macro avg    0.48468   0.51233   0.49465      3000\n",
      "weighted avg    0.60881   0.60300   0.60467      3000\n",
      "\n",
      "\n",
      "\n",
      "Count Vectorizer, Tweak 2 - No min/max df, no ngrams\n"
     ]
    },
    {
     "data": {
      "image/png": "[encoded data removed]",
      "text/plain": [
       "<Figure size 288x288 with 2 Axes>"
      ]
     },
     "metadata": {
      "needs_background": "light"
     },
     "output_type": "display_data"
    },
    {
     "name": "stdout",
     "output_type": "stream",
     "text": [
      "[[  79   37   28   14   11]\n",
      " [  36   34   42   37   20]\n",
      " [  16   24  125  117   61]\n",
      " [   4    3   80  432  351]\n",
      " [   1    5   30  261 1152]]\n",
      "\n",
      "\n",
      "              precision    recall  f1-score   support\n",
      "\n",
      "           1    0.58088   0.46746   0.51803       169\n",
      "           2    0.33010   0.20118   0.25000       169\n",
      "           3    0.40984   0.36443   0.38580       343\n",
      "           4    0.50174   0.49655   0.49913       870\n",
      "           5    0.72226   0.79503   0.75690      1449\n",
      "\n",
      "    accuracy                        0.60733      3000\n",
      "   macro avg    0.50896   0.46493   0.48197      3000\n",
      "weighted avg    0.59253   0.60733   0.59771      3000\n",
      "\n",
      "\n",
      "\n",
      "Count Vectorizer, No Tweaks - Min/max df, ngrams\n"
     ]
    },
    {
     "data": {
      "image/png": "[encoded data removed]",
      "text/plain": [
       "<Figure size 288x288 with 2 Axes>"
      ]
     },
     "metadata": {
      "needs_background": "light"
     },
     "output_type": "display_data"
    },
    {
     "name": "stdout",
     "output_type": "stream",
     "text": [
      "[[  84   35   30    8   12]\n",
      " [  43   38   38   27   23]\n",
      " [  25   30  122  108   58]\n",
      " [   8    9  103  396  354]\n",
      " [   7   11   45  246 1140]]\n",
      "\n",
      "\n",
      "              precision    recall  f1-score   support\n",
      "\n",
      "           1    0.50299   0.49704   0.50000       169\n",
      "           2    0.30894   0.22485   0.26027       169\n",
      "           3    0.36095   0.35569   0.35830       343\n",
      "           4    0.50446   0.45517   0.47855       870\n",
      "           5    0.71834   0.78675   0.75099      1449\n",
      "\n",
      "    accuracy                        0.59333      3000\n",
      "   macro avg    0.47914   0.46390   0.46962      3000\n",
      "weighted avg    0.58026   0.59333   0.58530      3000\n",
      "\n",
      "\n",
      "\n",
      "Tfidf Vectorizer, No Tweaks - Min/max df, ngrams\n"
     ]
    },
    {
     "data": {
      "image/png": "[encoded data removed]",
      "text/plain": [
       "<Figure size 288x288 with 2 Axes>"
      ]
     },
     "metadata": {
      "needs_background": "light"
     },
     "output_type": "display_data"
    },
    {
     "name": "stdout",
     "output_type": "stream",
     "text": [
      "[[  82   17   37   11   22]\n",
      " [  23   24   53   38   31]\n",
      " [  12    8  109  136   78]\n",
      " [   4    2   48  419  397]\n",
      " [   2    0   13  192 1242]]\n",
      "\n",
      "\n",
      "              precision    recall  f1-score   support\n",
      "\n",
      "           1    0.66667   0.48521   0.56164       169\n",
      "           2    0.47059   0.14201   0.21818       169\n",
      "           3    0.41923   0.31778   0.36153       343\n",
      "           4    0.52638   0.48161   0.50300       870\n",
      "           5    0.70169   0.85714   0.77167      1449\n",
      "\n",
      "    accuracy                        0.62533      3000\n",
      "   macro avg    0.55691   0.45675   0.48320      3000\n",
      "weighted avg    0.60357   0.62533   0.60385      3000\n",
      "\n",
      "\n",
      "\n",
      "Tfidf Vectorizer, No Tweaks - Min/max df, no ngrams\n"
     ]
    },
    {
     "data": {
      "image/png": "[encoded data removed]",
      "text/plain": [
       "<Figure size 288x288 with 2 Axes>"
      ]
     },
     "metadata": {
      "needs_background": "light"
     },
     "output_type": "display_data"
    },
    {
     "name": "stdout",
     "output_type": "stream",
     "text": [
      "[[  86   18   35   11   19]\n",
      " [  25   27   48   42   27]\n",
      " [  15   13  109  130   76]\n",
      " [   4    2   48  428  388]\n",
      " [   3    0   13  190 1243]]\n",
      "\n",
      "\n",
      "              precision    recall  f1-score   support\n",
      "\n",
      "           1    0.64662   0.50888   0.56954       169\n",
      "           2    0.45000   0.15976   0.23581       169\n",
      "           3    0.43083   0.31778   0.36577       343\n",
      "           4    0.53433   0.49195   0.51227       870\n",
      "           5    0.70907   0.85783   0.77639      1449\n",
      "\n",
      "    accuracy                        0.63100      3000\n",
      "   macro avg    0.55417   0.46724   0.49195      3000\n",
      "weighted avg    0.60847   0.63100   0.61074      3000\n",
      "\n"
     ]
    }
   ],
   "source": [
    "#print confusion matricies for decision tree predictions\n",
    "#code taken from week 5 examples and https://scikit-learn.org/stable/modules/generated/sklearn.metrics.classification_report.html#sklearn.metrics.classification_report\n",
    "\n",
    "print(\"Logistic Regression Predictions:\")\n",
    "print(\"\\n\")\n",
    "print(\"Count Vectorizer, No Tweaks - No min/max df, no ngrams\")\n",
    "create_cm(lr0_expected, lr0_predicted)\n",
    "print(\"\\n\")\n",
    "print(metrics.classification_report(lr0_expected, lr0_predicted, digits=5))\n",
    "print(\"\\n\")\n",
    "print(\"Count Vectorizer, Tweak 1 - No min/max df, no ngrams\")\n",
    "create_cm(lr1_expected, lr1_predicted)\n",
    "print(\"\\n\")\n",
    "print(metrics.classification_report(nb0_expected2, nb0_predicted2, digits=5))\n",
    "print(\"\\n\")\n",
    "print(\"Count Vectorizer, Tweak 2 - No min/max df, no ngrams\")\n",
    "create_cm(lr2_expected, lr2_predicted)\n",
    "print(\"\\n\")\n",
    "print(metrics.classification_report(lr2_expected, lr2_predicted, digits=5))\n",
    "print(\"\\n\")\n",
    "print(\"Count Vectorizer, No Tweaks - Min/max df, ngrams\")\n",
    "create_cm(lr0_expected2, lr0_predicted2)\n",
    "print(\"\\n\")\n",
    "print(metrics.classification_report(lr0_expected2, lr0_predicted2, digits=5))\n",
    "print(\"\\n\")\n",
    "print(\"Tfidf Vectorizer, No Tweaks - Min/max df, ngrams\")\n",
    "create_cm(lr0_expected3, lr0_predicted3)\n",
    "print(\"\\n\")\n",
    "print(metrics.classification_report(lr0_expected3, lr0_predicted3, digits=5))\n",
    "print(\"\\n\")\n",
    "print(\"Tfidf Vectorizer, No Tweaks - Min/max df, no ngrams\")\n",
    "create_cm(lr0_expected4, lr0_predicted4)\n",
    "print(\"\\n\")\n",
    "print(metrics.classification_report(lr0_expected4, lr0_predicted4, digits=5))"
   ]
  },
  {
   "cell_type": "code",
   "execution_count": 50,
   "metadata": {
    "scrolled": false
   },
   "outputs": [
    {
     "name": "stdout",
     "output_type": "stream",
     "text": [
      "Best Model for Accuracy:\n",
      "\n",
      "\n",
      "Tfidf Vectorizer, No Tweaks - Min/max df, no ngrams\n"
     ]
    },
    {
     "data": {
      "image/png": "[encoded data removed]",
      "text/plain": [
       "<Figure size 288x288 with 2 Axes>"
      ]
     },
     "metadata": {
      "needs_background": "light"
     },
     "output_type": "display_data"
    },
    {
     "name": "stdout",
     "output_type": "stream",
     "text": [
      "[[  86   18   35   11   19]\n",
      " [  25   27   48   42   27]\n",
      " [  15   13  109  130   76]\n",
      " [   4    2   48  428  388]\n",
      " [   3    0   13  190 1243]]\n",
      "\n",
      "\n",
      "              precision    recall  f1-score   support\n",
      "\n",
      "           1    0.64662   0.50888   0.56954       169\n",
      "           2    0.45000   0.15976   0.23581       169\n",
      "           3    0.43083   0.31778   0.36577       343\n",
      "           4    0.53433   0.49195   0.51227       870\n",
      "           5    0.70907   0.85783   0.77639      1449\n",
      "\n",
      "    accuracy                        0.63100      3000\n",
      "   macro avg    0.55417   0.46724   0.49195      3000\n",
      "weighted avg    0.60847   0.63100   0.61074      3000\n",
      "\n"
     ]
    }
   ],
   "source": [
    "#overall, the most accurate model\n",
    "#vectorizer: Tfidf, min/max df, no ngrams\n",
    "#prediction: Logistic Regression\n",
    "\n",
    "print(\"Best Model for Accuracy:\")\n",
    "print(\"\\n\")\n",
    "print(\"Tfidf Vectorizer, No Tweaks - Min/max df, no ngrams\")\n",
    "create_cm(lr0_expected4, lr0_predicted4)\n",
    "print(\"\\n\")\n",
    "print(metrics.classification_report(lr0_expected4, lr0_predicted4, digits=5))"
   ]
  },
  {
   "cell_type": "markdown",
   "metadata": {},
   "source": [
    "# Questions"
   ]
  },
  {
   "cell_type": "markdown",
   "metadata": {},
   "source": [
    "## Q1.  Describe data selected and what you're hoping to predict.  Make sure your answer is no longer than two concise paragraphs and tailored towards a non-technical audience. At a minimum your response should answer these questions:\n",
    "\n",
    "### What is your target variable (supervised) or intended class assignments (unsupervised)?\n",
    "### Based on your business question, which performance/accuracy measures will be used to identify the 'best' model?\n",
    "### Based on the business context, how accurate does the model need to be to be useful?"
   ]
  },
  {
   "cell_type": "markdown",
   "metadata": {},
   "source": [
    "&emsp;For this assignment, our company is a hospitality and hotel ownership group, and we will be further analyzing reviews that are left by customers. The data that we are interested in is the written review as well as the star rating that the customer has left. In our predictions, we hope to be able to write a supervised model that can predict the target variable of a star rating 1-5, based on the text written by the customer. We know that not in every scenario we will be able to collect a stared rating, but we know that these numerical averages over time are important for leadership to gauge the performance of their hotels. Being able to assign a predicted star value to each review will give our management teams the data they need to make further business decisions that impact the overall performance of our hotels.\n",
    "\n",
    "&emsp;To determine which model is performing the best, we will focus on the accuracy number as our primary indication with the help of some category precision ratings to determine the effectiveness of our model. This should be able to tell us how accurately we are predicting the overall dataset, as well as how well we predicted each class. For this model to be considered effective, we set a target goal of 80% accuracy. Due to the nature of what these ratings represent for the company, we want to really make sure we are appropriately accounting for the stars that would be given. We feel it is important to also make sure that we aren’t misrepresenting our customer’s original thoughts. It can be hard to judge how a customer really feels sometimes, so we want to be confident that our predictions will be leading us to the right data.\n"
   ]
  },
  {
   "cell_type": "markdown",
   "metadata": {},
   "source": [
    "## Q2. Write a short description of the predictive analysis methods applied.  Make sure your answer is no longer than two paragraphs and tailored to a technical audience.  At a minimum answer these questions:\n",
    "\n",
    "### What methods did you explore? Why?\n",
    "### Which model performed best?\n",
    "### What factors seemed to have the most influence on your results (e.g. algorithm selected, tuning of parameters/features, preprocessing decisions)"
   ]
  },
  {
   "cell_type": "markdown",
   "metadata": {},
   "source": [
    "&emsp;In this process we decided to explore 3 different models of supervised learning. Since our data is already in categories, 1-5, using supervised learning made the most sense. We looked at Decision Trees, Naïve Bayes, and Logistic Regression. We went with a wide net of predictive models, because we just weren’t sure how well they would all predict. We felt it was important to experiment so as to be sure that we settled on the right model to present to our managerial board. Due to managements limited time, budget, and needing to make sure we prove the worth of this assignment, only the best model will do.\n",
    "\n",
    "&emsp;Our overall best model was based on Logistic Regression. Unfortunately our level of accuracy did not hit 80%, but this model was the closest. We had an accuracy rating of 63%. Overall we seemed to do best predicting the 1 stars and 5 stars, but once we begin to predict the more nuanced middle ratings, this is where the model began to show is limits. We can see that in our model we had a 64% precision of 1 stars and a 71% precision of 5 stars. We began with a TFidf Vectorizer as well, as it proved to increase our models accuracy over the standard Count Vectorizer. We found that in our preparation, doing the least, gave us the most. In other words, leaving standard settings, not tweaking weights, not using ngrams gave us the best overall accuracy. We found that sometimes a tweak in bucket size or weights actually caused some categories to improve, but at the sacrifice of another, causing the overall accuracy to decline."
   ]
  }
 ],
 "metadata": {
  "kernelspec": {
   "display_name": "Python 3",
   "language": "python",
   "name": "python3"
  },
  "language_info": {
   "codemirror_mode": {
    "name": "ipython",
    "version": 3
   },
   "file_extension": ".py",
   "mimetype": "text/x-python",
   "name": "python",
   "nbconvert_exporter": "python",
   "pygments_lexer": "ipython3",
   "version": "3.8.5"
  }
 },
 "nbformat": 4,
 "nbformat_minor": 4
}
